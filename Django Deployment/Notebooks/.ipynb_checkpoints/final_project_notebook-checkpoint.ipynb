{
 "cells": [
  {
   "cell_type": "markdown",
   "metadata": {
    "id": "8CZmc2uGp4WD"
   },
   "source": [
    "# Predicting Mortgage Backed Securities Prepayment Risk Prediction "
   ]
  },
  {
   "cell_type": "markdown",
   "metadata": {
    "id": "HdZk8iLvp4WH"
   },
   "source": [
    "## Importing Data & Needed Libraries"
   ]
  },
  {
   "cell_type": "code",
   "execution_count": 1,
   "metadata": {
    "id": "YgW8ER9R6G7_"
   },
   "outputs": [],
   "source": [
    "import pandas as pd \n",
    "import numpy as np \n",
    "import matplotlib.pyplot as plt\n",
    "import seaborn as sns \n",
    "import networkx as nx\n",
    "import statsmodels.api as sm\n",
    "from sklearn import preprocessing\n",
    "from sklearn.preprocessing import OneHotEncoder\n",
    "import warnings\n",
    "warnings.filterwarnings(\"ignore\")\n",
    "import matplotlib\n",
    "warnings.filterwarnings(\"always\")\n",
    "\n",
    "%matplotlib inline "
   ]
  },
  {
   "cell_type": "code",
   "execution_count": 2,
   "metadata": {
    "colab": {
     "base_uri": "https://localhost:8080/",
     "height": 839
    },
    "id": "wzEw2aAp7_hD",
    "outputId": "c8b41e7d-2cc5-40fa-f0dc-cdfa1e1e3991"
   },
   "outputs": [
    {
     "name": "stderr",
     "output_type": "stream",
     "text": [
      "/var/folders/cp/zzchzjw14jb8x0ffxgyywy3m0000gp/T/ipykernel_98087/3269217300.py:1: DtypeWarning: Columns (18) have mixed types. Specify dtype option on import or set low_memory=False.\n",
      "  data = pd.read_csv('LoanExport.csv')\n"
     ]
    },
    {
     "data": {
      "text/html": [
       "<div>\n",
       "<style scoped>\n",
       "    .dataframe tbody tr th:only-of-type {\n",
       "        vertical-align: middle;\n",
       "    }\n",
       "\n",
       "    .dataframe tbody tr th {\n",
       "        vertical-align: top;\n",
       "    }\n",
       "\n",
       "    .dataframe thead th {\n",
       "        text-align: right;\n",
       "    }\n",
       "</style>\n",
       "<table border=\"1\" class=\"dataframe\">\n",
       "  <thead>\n",
       "    <tr style=\"text-align: right;\">\n",
       "      <th></th>\n",
       "      <th>CreditScore</th>\n",
       "      <th>FirstPaymentDate</th>\n",
       "      <th>FirstTimeHomebuyer</th>\n",
       "      <th>MaturityDate</th>\n",
       "      <th>MSA</th>\n",
       "      <th>MIP</th>\n",
       "      <th>Units</th>\n",
       "      <th>Occupancy</th>\n",
       "      <th>OCLTV</th>\n",
       "      <th>DTI</th>\n",
       "      <th>...</th>\n",
       "      <th>PostalCode</th>\n",
       "      <th>LoanSeqNum</th>\n",
       "      <th>LoanPurpose</th>\n",
       "      <th>OrigLoanTerm</th>\n",
       "      <th>NumBorrowers</th>\n",
       "      <th>SellerName</th>\n",
       "      <th>ServicerName</th>\n",
       "      <th>EverDelinquent</th>\n",
       "      <th>MonthsDelinquent</th>\n",
       "      <th>MonthsInRepayment</th>\n",
       "    </tr>\n",
       "  </thead>\n",
       "  <tbody>\n",
       "    <tr>\n",
       "      <th>0</th>\n",
       "      <td>0</td>\n",
       "      <td>199902</td>\n",
       "      <td>N</td>\n",
       "      <td>202901</td>\n",
       "      <td>16974</td>\n",
       "      <td>25</td>\n",
       "      <td>1</td>\n",
       "      <td>O</td>\n",
       "      <td>89</td>\n",
       "      <td>27</td>\n",
       "      <td>...</td>\n",
       "      <td>60400</td>\n",
       "      <td>F199Q1268030</td>\n",
       "      <td>P</td>\n",
       "      <td>360</td>\n",
       "      <td>2</td>\n",
       "      <td>FL</td>\n",
       "      <td>WASHINGTONMUTUALBANK</td>\n",
       "      <td>0</td>\n",
       "      <td>0</td>\n",
       "      <td>52</td>\n",
       "    </tr>\n",
       "    <tr>\n",
       "      <th>1</th>\n",
       "      <td>0</td>\n",
       "      <td>199902</td>\n",
       "      <td>N</td>\n",
       "      <td>202901</td>\n",
       "      <td>19740</td>\n",
       "      <td>0</td>\n",
       "      <td>1</td>\n",
       "      <td>O</td>\n",
       "      <td>73</td>\n",
       "      <td>17</td>\n",
       "      <td>...</td>\n",
       "      <td>80200</td>\n",
       "      <td>F199Q1015092</td>\n",
       "      <td>N</td>\n",
       "      <td>360</td>\n",
       "      <td>1</td>\n",
       "      <td>FT</td>\n",
       "      <td>CHASEHOMEFINANCELLC</td>\n",
       "      <td>0</td>\n",
       "      <td>0</td>\n",
       "      <td>144</td>\n",
       "    </tr>\n",
       "    <tr>\n",
       "      <th>2</th>\n",
       "      <td>0</td>\n",
       "      <td>199902</td>\n",
       "      <td>N</td>\n",
       "      <td>202901</td>\n",
       "      <td>29940</td>\n",
       "      <td>0</td>\n",
       "      <td>1</td>\n",
       "      <td>O</td>\n",
       "      <td>75</td>\n",
       "      <td>16</td>\n",
       "      <td>...</td>\n",
       "      <td>66000</td>\n",
       "      <td>F199Q1266886</td>\n",
       "      <td>N</td>\n",
       "      <td>360</td>\n",
       "      <td>2</td>\n",
       "      <td>FL</td>\n",
       "      <td>WASHINGTONMUTUALBANK</td>\n",
       "      <td>0</td>\n",
       "      <td>0</td>\n",
       "      <td>67</td>\n",
       "    </tr>\n",
       "    <tr>\n",
       "      <th>3</th>\n",
       "      <td>0</td>\n",
       "      <td>199902</td>\n",
       "      <td>N</td>\n",
       "      <td>202901</td>\n",
       "      <td>31084</td>\n",
       "      <td>0</td>\n",
       "      <td>1</td>\n",
       "      <td>O</td>\n",
       "      <td>76</td>\n",
       "      <td>14</td>\n",
       "      <td>...</td>\n",
       "      <td>90700</td>\n",
       "      <td>F199Q1178167</td>\n",
       "      <td>N</td>\n",
       "      <td>360</td>\n",
       "      <td>2</td>\n",
       "      <td>GM</td>\n",
       "      <td>GMACMTGECORP</td>\n",
       "      <td>0</td>\n",
       "      <td>0</td>\n",
       "      <td>35</td>\n",
       "    </tr>\n",
       "    <tr>\n",
       "      <th>4</th>\n",
       "      <td>0</td>\n",
       "      <td>199902</td>\n",
       "      <td>N</td>\n",
       "      <td>202901</td>\n",
       "      <td>35644</td>\n",
       "      <td>0</td>\n",
       "      <td>1</td>\n",
       "      <td>O</td>\n",
       "      <td>78</td>\n",
       "      <td>18</td>\n",
       "      <td>...</td>\n",
       "      <td>7600</td>\n",
       "      <td>F199Q1178517</td>\n",
       "      <td>N</td>\n",
       "      <td>360</td>\n",
       "      <td>2</td>\n",
       "      <td>GM</td>\n",
       "      <td>GMACMTGECORP</td>\n",
       "      <td>0</td>\n",
       "      <td>0</td>\n",
       "      <td>54</td>\n",
       "    </tr>\n",
       "    <tr>\n",
       "      <th>5</th>\n",
       "      <td>0</td>\n",
       "      <td>199902</td>\n",
       "      <td>N</td>\n",
       "      <td>202901</td>\n",
       "      <td>X</td>\n",
       "      <td>25</td>\n",
       "      <td>1</td>\n",
       "      <td>O</td>\n",
       "      <td>89</td>\n",
       "      <td>40</td>\n",
       "      <td>...</td>\n",
       "      <td>80400</td>\n",
       "      <td>F199Q1224802</td>\n",
       "      <td>N</td>\n",
       "      <td>360</td>\n",
       "      <td>2</td>\n",
       "      <td>Ot</td>\n",
       "      <td>Other servicers</td>\n",
       "      <td>0</td>\n",
       "      <td>0</td>\n",
       "      <td>42</td>\n",
       "    </tr>\n",
       "    <tr>\n",
       "      <th>6</th>\n",
       "      <td>0</td>\n",
       "      <td>199902</td>\n",
       "      <td>N</td>\n",
       "      <td>202901</td>\n",
       "      <td>X</td>\n",
       "      <td>25</td>\n",
       "      <td>1</td>\n",
       "      <td>O</td>\n",
       "      <td>90</td>\n",
       "      <td>21</td>\n",
       "      <td>...</td>\n",
       "      <td>53100</td>\n",
       "      <td>F199Q1291436</td>\n",
       "      <td>P</td>\n",
       "      <td>360</td>\n",
       "      <td>1</td>\n",
       "      <td>RE</td>\n",
       "      <td>Other servicers</td>\n",
       "      <td>0</td>\n",
       "      <td>0</td>\n",
       "      <td>44</td>\n",
       "    </tr>\n",
       "    <tr>\n",
       "      <th>7</th>\n",
       "      <td>0</td>\n",
       "      <td>199902</td>\n",
       "      <td>X</td>\n",
       "      <td>202901</td>\n",
       "      <td>36740</td>\n",
       "      <td>0</td>\n",
       "      <td>1</td>\n",
       "      <td>O</td>\n",
       "      <td>72</td>\n",
       "      <td>20</td>\n",
       "      <td>...</td>\n",
       "      <td>32800</td>\n",
       "      <td>F199Q1001824</td>\n",
       "      <td>N</td>\n",
       "      <td>360</td>\n",
       "      <td>1</td>\n",
       "      <td>NO</td>\n",
       "      <td>WELLSFARGOBANKNA</td>\n",
       "      <td>1</td>\n",
       "      <td>3</td>\n",
       "      <td>145</td>\n",
       "    </tr>\n",
       "    <tr>\n",
       "      <th>8</th>\n",
       "      <td>0</td>\n",
       "      <td>199902</td>\n",
       "      <td>Y</td>\n",
       "      <td>202710</td>\n",
       "      <td>25540</td>\n",
       "      <td>30</td>\n",
       "      <td>1</td>\n",
       "      <td>O</td>\n",
       "      <td>95</td>\n",
       "      <td>38</td>\n",
       "      <td>...</td>\n",
       "      <td>6400</td>\n",
       "      <td>F199Q1079744</td>\n",
       "      <td>P</td>\n",
       "      <td>345</td>\n",
       "      <td>1</td>\n",
       "      <td>Ot</td>\n",
       "      <td>Other servicers</td>\n",
       "      <td>0</td>\n",
       "      <td>0</td>\n",
       "      <td>64</td>\n",
       "    </tr>\n",
       "    <tr>\n",
       "      <th>9</th>\n",
       "      <td>0</td>\n",
       "      <td>199902</td>\n",
       "      <td>Y</td>\n",
       "      <td>202901</td>\n",
       "      <td>48620</td>\n",
       "      <td>30</td>\n",
       "      <td>1</td>\n",
       "      <td>O</td>\n",
       "      <td>95</td>\n",
       "      <td>27</td>\n",
       "      <td>...</td>\n",
       "      <td>67000</td>\n",
       "      <td>F199Q1196318</td>\n",
       "      <td>P</td>\n",
       "      <td>360</td>\n",
       "      <td>1</td>\n",
       "      <td>Ot</td>\n",
       "      <td>WELLSFARGOBANKNA</td>\n",
       "      <td>1</td>\n",
       "      <td>104</td>\n",
       "      <td>212</td>\n",
       "    </tr>\n",
       "    <tr>\n",
       "      <th>10</th>\n",
       "      <td>0</td>\n",
       "      <td>199903</td>\n",
       "      <td>N</td>\n",
       "      <td>202902</td>\n",
       "      <td>12060</td>\n",
       "      <td>0</td>\n",
       "      <td>1</td>\n",
       "      <td>O</td>\n",
       "      <td>80</td>\n",
       "      <td>19</td>\n",
       "      <td>...</td>\n",
       "      <td>30100</td>\n",
       "      <td>F199Q1309144</td>\n",
       "      <td>P</td>\n",
       "      <td>360</td>\n",
       "      <td>2</td>\n",
       "      <td>Ot</td>\n",
       "      <td>Other servicers</td>\n",
       "      <td>0</td>\n",
       "      <td>0</td>\n",
       "      <td>37</td>\n",
       "    </tr>\n",
       "    <tr>\n",
       "      <th>11</th>\n",
       "      <td>0</td>\n",
       "      <td>199903</td>\n",
       "      <td>N</td>\n",
       "      <td>202902</td>\n",
       "      <td>12060</td>\n",
       "      <td>12</td>\n",
       "      <td>1</td>\n",
       "      <td>O</td>\n",
       "      <td>77</td>\n",
       "      <td>18</td>\n",
       "      <td>...</td>\n",
       "      <td>30000</td>\n",
       "      <td>F199Q1363208</td>\n",
       "      <td>C</td>\n",
       "      <td>360</td>\n",
       "      <td>1</td>\n",
       "      <td>ST</td>\n",
       "      <td>ABNAMROMTGEGROUPINC</td>\n",
       "      <td>0</td>\n",
       "      <td>0</td>\n",
       "      <td>47</td>\n",
       "    </tr>\n",
       "    <tr>\n",
       "      <th>12</th>\n",
       "      <td>0</td>\n",
       "      <td>199903</td>\n",
       "      <td>N</td>\n",
       "      <td>202902</td>\n",
       "      <td>12060</td>\n",
       "      <td>12</td>\n",
       "      <td>1</td>\n",
       "      <td>O</td>\n",
       "      <td>85</td>\n",
       "      <td>38</td>\n",
       "      <td>...</td>\n",
       "      <td>30100</td>\n",
       "      <td>F199Q1388109</td>\n",
       "      <td>P</td>\n",
       "      <td>360</td>\n",
       "      <td>1</td>\n",
       "      <td>Ot</td>\n",
       "      <td>BANKOFAMERICANA</td>\n",
       "      <td>0</td>\n",
       "      <td>0</td>\n",
       "      <td>53</td>\n",
       "    </tr>\n",
       "    <tr>\n",
       "      <th>13</th>\n",
       "      <td>0</td>\n",
       "      <td>199903</td>\n",
       "      <td>N</td>\n",
       "      <td>202902</td>\n",
       "      <td>12060</td>\n",
       "      <td>25</td>\n",
       "      <td>1</td>\n",
       "      <td>O</td>\n",
       "      <td>90</td>\n",
       "      <td>19</td>\n",
       "      <td>...</td>\n",
       "      <td>30600</td>\n",
       "      <td>F199Q1388083</td>\n",
       "      <td>N</td>\n",
       "      <td>360</td>\n",
       "      <td>2</td>\n",
       "      <td>Ot</td>\n",
       "      <td>BANKOFAMERICANA</td>\n",
       "      <td>0</td>\n",
       "      <td>0</td>\n",
       "      <td>55</td>\n",
       "    </tr>\n",
       "    <tr>\n",
       "      <th>14</th>\n",
       "      <td>0</td>\n",
       "      <td>199903</td>\n",
       "      <td>N</td>\n",
       "      <td>202902</td>\n",
       "      <td>12060</td>\n",
       "      <td>25</td>\n",
       "      <td>1</td>\n",
       "      <td>O</td>\n",
       "      <td>90</td>\n",
       "      <td>23</td>\n",
       "      <td>...</td>\n",
       "      <td>30200</td>\n",
       "      <td>F199Q1312860</td>\n",
       "      <td>P</td>\n",
       "      <td>360</td>\n",
       "      <td>2</td>\n",
       "      <td>ST</td>\n",
       "      <td>CHASEMANHATTANMTGECO</td>\n",
       "      <td>0</td>\n",
       "      <td>0</td>\n",
       "      <td>66</td>\n",
       "    </tr>\n",
       "    <tr>\n",
       "      <th>15</th>\n",
       "      <td>0</td>\n",
       "      <td>199903</td>\n",
       "      <td>N</td>\n",
       "      <td>202902</td>\n",
       "      <td>12060</td>\n",
       "      <td>25</td>\n",
       "      <td>1</td>\n",
       "      <td>O</td>\n",
       "      <td>90</td>\n",
       "      <td>45</td>\n",
       "      <td>...</td>\n",
       "      <td>30300</td>\n",
       "      <td>F199Q1271788</td>\n",
       "      <td>N</td>\n",
       "      <td>360</td>\n",
       "      <td>1</td>\n",
       "      <td>Ot</td>\n",
       "      <td>BANKOFAMERICANA</td>\n",
       "      <td>1</td>\n",
       "      <td>5</td>\n",
       "      <td>55</td>\n",
       "    </tr>\n",
       "    <tr>\n",
       "      <th>16</th>\n",
       "      <td>0</td>\n",
       "      <td>199903</td>\n",
       "      <td>N</td>\n",
       "      <td>202902</td>\n",
       "      <td>12060</td>\n",
       "      <td>30</td>\n",
       "      <td>1</td>\n",
       "      <td>O</td>\n",
       "      <td>95</td>\n",
       "      <td>28</td>\n",
       "      <td>...</td>\n",
       "      <td>30000</td>\n",
       "      <td>F199Q1311724</td>\n",
       "      <td>P</td>\n",
       "      <td>360</td>\n",
       "      <td>1</td>\n",
       "      <td>CR</td>\n",
       "      <td>CHASEMANHATTANMTGECO</td>\n",
       "      <td>1</td>\n",
       "      <td>23</td>\n",
       "      <td>55</td>\n",
       "    </tr>\n",
       "    <tr>\n",
       "      <th>17</th>\n",
       "      <td>0</td>\n",
       "      <td>199903</td>\n",
       "      <td>N</td>\n",
       "      <td>202902</td>\n",
       "      <td>12420</td>\n",
       "      <td>25</td>\n",
       "      <td>1</td>\n",
       "      <td>O</td>\n",
       "      <td>90</td>\n",
       "      <td>27</td>\n",
       "      <td>...</td>\n",
       "      <td>78700</td>\n",
       "      <td>F199Q1330011</td>\n",
       "      <td>P</td>\n",
       "      <td>360</td>\n",
       "      <td>2</td>\n",
       "      <td>Ot</td>\n",
       "      <td>HOMESIDELENDINGINC</td>\n",
       "      <td>0</td>\n",
       "      <td>0</td>\n",
       "      <td>26</td>\n",
       "    </tr>\n",
       "    <tr>\n",
       "      <th>18</th>\n",
       "      <td>0</td>\n",
       "      <td>199903</td>\n",
       "      <td>N</td>\n",
       "      <td>202902</td>\n",
       "      <td>13140</td>\n",
       "      <td>25</td>\n",
       "      <td>1</td>\n",
       "      <td>O</td>\n",
       "      <td>90</td>\n",
       "      <td>29</td>\n",
       "      <td>...</td>\n",
       "      <td>77700</td>\n",
       "      <td>F199Q1321742</td>\n",
       "      <td>P</td>\n",
       "      <td>360</td>\n",
       "      <td>2</td>\n",
       "      <td>CH</td>\n",
       "      <td>CHASEMTGECO</td>\n",
       "      <td>0</td>\n",
       "      <td>0</td>\n",
       "      <td>38</td>\n",
       "    </tr>\n",
       "    <tr>\n",
       "      <th>19</th>\n",
       "      <td>0</td>\n",
       "      <td>199903</td>\n",
       "      <td>N</td>\n",
       "      <td>202902</td>\n",
       "      <td>13644</td>\n",
       "      <td>25</td>\n",
       "      <td>1</td>\n",
       "      <td>O</td>\n",
       "      <td>90</td>\n",
       "      <td>15</td>\n",
       "      <td>...</td>\n",
       "      <td>20800</td>\n",
       "      <td>F199Q1245176</td>\n",
       "      <td>P</td>\n",
       "      <td>360</td>\n",
       "      <td>1</td>\n",
       "      <td>FI</td>\n",
       "      <td>WELLSFARGOHOMEMORTGA</td>\n",
       "      <td>0</td>\n",
       "      <td>0</td>\n",
       "      <td>36</td>\n",
       "    </tr>\n",
       "  </tbody>\n",
       "</table>\n",
       "<p>20 rows × 28 columns</p>\n",
       "</div>"
      ],
      "text/plain": [
       "    CreditScore  FirstPaymentDate FirstTimeHomebuyer  MaturityDate    MSA  \\\n",
       "0             0            199902                  N        202901  16974   \n",
       "1             0            199902                  N        202901  19740   \n",
       "2             0            199902                  N        202901  29940   \n",
       "3             0            199902                  N        202901  31084   \n",
       "4             0            199902                  N        202901  35644   \n",
       "5             0            199902                  N        202901  X       \n",
       "6             0            199902                  N        202901  X       \n",
       "7             0            199902                  X        202901  36740   \n",
       "8             0            199902                  Y        202710  25540   \n",
       "9             0            199902                  Y        202901  48620   \n",
       "10            0            199903                  N        202902  12060   \n",
       "11            0            199903                  N        202902  12060   \n",
       "12            0            199903                  N        202902  12060   \n",
       "13            0            199903                  N        202902  12060   \n",
       "14            0            199903                  N        202902  12060   \n",
       "15            0            199903                  N        202902  12060   \n",
       "16            0            199903                  N        202902  12060   \n",
       "17            0            199903                  N        202902  12420   \n",
       "18            0            199903                  N        202902  13140   \n",
       "19            0            199903                  N        202902  13644   \n",
       "\n",
       "    MIP  Units Occupancy  OCLTV  DTI  ...  PostalCode    LoanSeqNum  \\\n",
       "0    25      1         O     89   27  ...       60400  F199Q1268030   \n",
       "1     0      1         O     73   17  ...       80200  F199Q1015092   \n",
       "2     0      1         O     75   16  ...       66000  F199Q1266886   \n",
       "3     0      1         O     76   14  ...       90700  F199Q1178167   \n",
       "4     0      1         O     78   18  ...        7600  F199Q1178517   \n",
       "5    25      1         O     89   40  ...       80400  F199Q1224802   \n",
       "6    25      1         O     90   21  ...       53100  F199Q1291436   \n",
       "7     0      1         O     72   20  ...       32800  F199Q1001824   \n",
       "8    30      1         O     95   38  ...        6400  F199Q1079744   \n",
       "9    30      1         O     95   27  ...       67000  F199Q1196318   \n",
       "10    0      1         O     80   19  ...       30100  F199Q1309144   \n",
       "11   12      1         O     77   18  ...       30000  F199Q1363208   \n",
       "12   12      1         O     85   38  ...       30100  F199Q1388109   \n",
       "13   25      1         O     90   19  ...       30600  F199Q1388083   \n",
       "14   25      1         O     90   23  ...       30200  F199Q1312860   \n",
       "15   25      1         O     90   45  ...       30300  F199Q1271788   \n",
       "16   30      1         O     95   28  ...       30000  F199Q1311724   \n",
       "17   25      1         O     90   27  ...       78700  F199Q1330011   \n",
       "18   25      1         O     90   29  ...       77700  F199Q1321742   \n",
       "19   25      1         O     90   15  ...       20800  F199Q1245176   \n",
       "\n",
       "    LoanPurpose OrigLoanTerm NumBorrowers SellerName          ServicerName  \\\n",
       "0             P          360            2         FL  WASHINGTONMUTUALBANK   \n",
       "1             N          360            1         FT  CHASEHOMEFINANCELLC    \n",
       "2             N          360            2         FL  WASHINGTONMUTUALBANK   \n",
       "3             N          360            2         GM  GMACMTGECORP           \n",
       "4             N          360            2         GM  GMACMTGECORP           \n",
       "5             N          360            2         Ot  Other servicers        \n",
       "6             P          360            1         RE  Other servicers        \n",
       "7             N          360            1         NO   WELLSFARGOBANKNA      \n",
       "8             P          345            1         Ot  Other servicers        \n",
       "9             P          360            1         Ot   WELLSFARGOBANKNA      \n",
       "10            P          360            2         Ot  Other servicers        \n",
       "11            C          360            1         ST   ABNAMROMTGEGROUPINC   \n",
       "12            P          360            1         Ot   BANKOFAMERICANA       \n",
       "13            N          360            2         Ot   BANKOFAMERICANA       \n",
       "14            P          360            2         ST  CHASEMANHATTANMTGECO   \n",
       "15            N          360            1         Ot   BANKOFAMERICANA       \n",
       "16            P          360            1         CR  CHASEMANHATTANMTGECO   \n",
       "17            P          360            2         Ot   HOMESIDELENDINGINC    \n",
       "18            P          360            2         CH  CHASEMTGECO            \n",
       "19            P          360            1         FI  WELLSFARGOHOMEMORTGA   \n",
       "\n",
       "   EverDelinquent MonthsDelinquent MonthsInRepayment  \n",
       "0               0                0                52  \n",
       "1               0                0               144  \n",
       "2               0                0                67  \n",
       "3               0                0                35  \n",
       "4               0                0                54  \n",
       "5               0                0                42  \n",
       "6               0                0                44  \n",
       "7               1                3               145  \n",
       "8               0                0                64  \n",
       "9               1              104               212  \n",
       "10              0                0                37  \n",
       "11              0                0                47  \n",
       "12              0                0                53  \n",
       "13              0                0                55  \n",
       "14              0                0                66  \n",
       "15              1                5                55  \n",
       "16              1               23                55  \n",
       "17              0                0                26  \n",
       "18              0                0                38  \n",
       "19              0                0                36  \n",
       "\n",
       "[20 rows x 28 columns]"
      ]
     },
     "execution_count": 2,
     "metadata": {},
     "output_type": "execute_result"
    }
   ],
   "source": [
    "data = pd.read_csv('LoanExport.csv')\n",
    "data.head(20)"
   ]
  },
  {
   "cell_type": "markdown",
   "metadata": {
    "id": "NavqK9YRp4WL"
   },
   "source": [
    "## Defining Needed Functions for EDA"
   ]
  },
  {
   "cell_type": "code",
   "execution_count": 3,
   "metadata": {
    "id": "QfJtcyYM9hLj"
   },
   "outputs": [],
   "source": [
    "def draw_histogram(col,plottitle,xlabel,ylabel):\n",
    "  plt.figure(figsize=(30,10))\n",
    "  plt.hist(data[col],edgecolor='black')\n",
    "  plt.title(plottitle)\n",
    "  plt.xlabel(xlabel)\n",
    "  plt.ylabel(ylabel)\n",
    "  plt.show()\n",
    "# function to draw histogram to know the density of any categorical data"
   ]
  },
  {
   "cell_type": "code",
   "execution_count": 4,
   "metadata": {
    "id": "OGpALf4G98Tt"
   },
   "outputs": [],
   "source": [
    "def draw_boxplot(col):\n",
    "  sns.boxplot(data[col]) \n"
   ]
  },
  {
   "cell_type": "code",
   "execution_count": 5,
   "metadata": {
    "id": "Exgqh-AQ-B4C"
   },
   "outputs": [],
   "source": [
    "def draw_piechart(col,label):\n",
    "  plt.figure(figsize=(10,10))\n",
    "  plt.pie(data[col].value_counts(),shadow=True ,autopct='%.3f',labels=label)\n",
    "  plt.show()"
   ]
  },
  {
   "cell_type": "code",
   "execution_count": 6,
   "metadata": {
    "id": "G8VEAkGW-Fz7"
   },
   "outputs": [],
   "source": [
    "def draw_scatterplot(col1,col2):\n",
    "  plt.scatter(data[col1],data[col2])\n"
   ]
  },
  {
   "cell_type": "code",
   "execution_count": 7,
   "metadata": {
    "id": "8nvQtwVj-KgF"
   },
   "outputs": [],
   "source": [
    "def calc_linearsummary(feature, target):\n",
    "  y = data[target]\n",
    "  x = data[feature]\n",
    "  x = sm.add_constant(x)\n",
    "  model = sm.OLS(y, x).fit()\n",
    "  print(model.summary())"
   ]
  },
  {
   "cell_type": "code",
   "execution_count": 8,
   "metadata": {
    "id": "gVIO4XG7YnKw"
   },
   "outputs": [],
   "source": [
    "def draw_join_plot(colx,coly):\n",
    "  sns.jointplot(x=colx,y=coly,kind='reg')"
   ]
  },
  {
   "cell_type": "code",
   "execution_count": 9,
   "metadata": {
    "id": "zrmFIrQl-WYh"
   },
   "outputs": [],
   "source": [
    "def handle_outlier(col):\n",
    "  sorted(col)\n",
    "  Q1,Q3=col.quantile([0.25,0.75])\n",
    "  IQR=Q3-Q1\n",
    "  lower=Q1-(1.5*IQR)\n",
    "  upper=Q3+(1.5*IQR)\n",
    "  return lower , upper"
   ]
  },
  {
   "cell_type": "code",
   "execution_count": 10,
   "metadata": {
    "id": "PrKCFmgNGwhz"
   },
   "outputs": [],
   "source": [
    "def label_encoding(col):\n",
    "  label_encoder = preprocessing.LabelEncoder()\n",
    "  data[col]= label_encoder.fit_transform(data[col])\n"
   ]
  },
  {
   "cell_type": "code",
   "execution_count": 11,
   "metadata": {
    "id": "WEKYmeB0eGmq"
   },
   "outputs": [],
   "source": [
    "def one_hot_encoding(cols):\n",
    "  one_hot_encoded_data = pd.get_dummies(data, columns = cols)\n",
    "  return one_hot_encoded_data"
   ]
  },
  {
   "cell_type": "markdown",
   "metadata": {
    "id": "dgOpkQX5p4WP"
   },
   "source": [
    "## Data Preprocessing & EDA"
   ]
  },
  {
   "cell_type": "code",
   "execution_count": 12,
   "metadata": {
    "colab": {
     "base_uri": "https://localhost:8080/"
    },
    "id": "f-yY0oDD-may",
    "outputId": "8372b6f1-b46a-4cf7-9457-a0ee0458e246"
   },
   "outputs": [
    {
     "data": {
      "text/plain": [
       "(291451, 28)"
      ]
     },
     "execution_count": 12,
     "metadata": {},
     "output_type": "execute_result"
    }
   ],
   "source": [
    "data.shape"
   ]
  },
  {
   "cell_type": "code",
   "execution_count": 13,
   "metadata": {
    "colab": {
     "base_uri": "https://localhost:8080/"
    },
    "id": "pOzbB2hb-shz",
    "outputId": "1bd6d873-552a-495e-cc80-3bb9f2c139c6"
   },
   "outputs": [
    {
     "name": "stdout",
     "output_type": "stream",
     "text": [
      "<class 'pandas.core.frame.DataFrame'>\n",
      "RangeIndex: 291451 entries, 0 to 291450\n",
      "Data columns (total 28 columns):\n",
      " #   Column              Non-Null Count   Dtype  \n",
      "---  ------              --------------   -----  \n",
      " 0   CreditScore         291451 non-null  int64  \n",
      " 1   FirstPaymentDate    291451 non-null  int64  \n",
      " 2   FirstTimeHomebuyer  291451 non-null  object \n",
      " 3   MaturityDate        291451 non-null  int64  \n",
      " 4   MSA                 291451 non-null  object \n",
      " 5   MIP                 291451 non-null  int64  \n",
      " 6   Units               291451 non-null  int64  \n",
      " 7   Occupancy           291451 non-null  object \n",
      " 8   OCLTV               291451 non-null  int64  \n",
      " 9   DTI                 291451 non-null  int64  \n",
      " 10  OrigUPB             291451 non-null  int64  \n",
      " 11  LTV                 291451 non-null  int64  \n",
      " 12  OrigInterestRate    291451 non-null  float64\n",
      " 13  Channel             291451 non-null  object \n",
      " 14  PPM                 291451 non-null  object \n",
      " 15  ProductType         291451 non-null  object \n",
      " 16  PropertyState       291451 non-null  object \n",
      " 17  PropertyType        291451 non-null  object \n",
      " 18  PostalCode          291451 non-null  object \n",
      " 19  LoanSeqNum          291451 non-null  object \n",
      " 20  LoanPurpose         291451 non-null  object \n",
      " 21  OrigLoanTerm        291451 non-null  int64  \n",
      " 22  NumBorrowers        291451 non-null  object \n",
      " 23  SellerName          266457 non-null  object \n",
      " 24  ServicerName        291451 non-null  object \n",
      " 25  EverDelinquent      291451 non-null  int64  \n",
      " 26  MonthsDelinquent    291451 non-null  int64  \n",
      " 27  MonthsInRepayment   291451 non-null  int64  \n",
      "dtypes: float64(1), int64(13), object(14)\n",
      "memory usage: 62.3+ MB\n"
     ]
    }
   ],
   "source": [
    "# Checking informations about our features\n",
    "data.info()"
   ]
  },
  {
   "cell_type": "code",
   "execution_count": 14,
   "metadata": {
    "colab": {
     "base_uri": "https://localhost:8080/"
    },
    "id": "UzUbp1tDKtNz",
    "outputId": "774484f1-5c64-4655-a219-939f8d4a1e4c"
   },
   "outputs": [
    {
     "data": {
      "text/plain": [
       "CreditScore               0\n",
       "FirstPaymentDate          0\n",
       "FirstTimeHomebuyer        0\n",
       "MaturityDate              0\n",
       "MSA                       0\n",
       "MIP                       0\n",
       "Units                     0\n",
       "Occupancy                 0\n",
       "OCLTV                     0\n",
       "DTI                       0\n",
       "OrigUPB                   0\n",
       "LTV                       0\n",
       "OrigInterestRate          0\n",
       "Channel                   0\n",
       "PPM                       0\n",
       "ProductType               0\n",
       "PropertyState             0\n",
       "PropertyType              0\n",
       "PostalCode                0\n",
       "LoanSeqNum                0\n",
       "LoanPurpose               0\n",
       "OrigLoanTerm              0\n",
       "NumBorrowers              0\n",
       "SellerName            24994\n",
       "ServicerName              0\n",
       "EverDelinquent            0\n",
       "MonthsDelinquent          0\n",
       "MonthsInRepayment         0\n",
       "dtype: int64"
      ]
     },
     "execution_count": 14,
     "metadata": {},
     "output_type": "execute_result"
    }
   ],
   "source": [
    "# Checking for missing values \n",
    "data.isnull().sum()"
   ]
  },
  {
   "cell_type": "code",
   "execution_count": 15,
   "metadata": {
    "colab": {
     "base_uri": "https://localhost:8080/"
    },
    "id": "NGCefNIodEH3",
    "outputId": "ee19330d-5cb8-4939-8ef5-fdb0c1b36541"
   },
   "outputs": [
    {
     "data": {
      "text/plain": [
       "CreditScore             int64\n",
       "FirstPaymentDate        int64\n",
       "FirstTimeHomebuyer     object\n",
       "MaturityDate            int64\n",
       "MSA                    object\n",
       "MIP                     int64\n",
       "Units                   int64\n",
       "Occupancy              object\n",
       "OCLTV                   int64\n",
       "DTI                     int64\n",
       "OrigUPB                 int64\n",
       "LTV                     int64\n",
       "OrigInterestRate      float64\n",
       "Channel                object\n",
       "PPM                    object\n",
       "ProductType            object\n",
       "PropertyState          object\n",
       "PropertyType           object\n",
       "PostalCode             object\n",
       "LoanSeqNum             object\n",
       "LoanPurpose            object\n",
       "OrigLoanTerm            int64\n",
       "NumBorrowers           object\n",
       "SellerName             object\n",
       "ServicerName           object\n",
       "EverDelinquent          int64\n",
       "MonthsDelinquent        int64\n",
       "MonthsInRepayment       int64\n",
       "dtype: object"
      ]
     },
     "execution_count": 15,
     "metadata": {},
     "output_type": "execute_result"
    }
   ],
   "source": [
    "#Check if there's any categorical features in our data \n",
    "data.dtypes"
   ]
  },
  {
   "cell_type": "code",
   "execution_count": 16,
   "metadata": {
    "id": "sole8BO5_XPi"
   },
   "outputs": [],
   "source": [
    "# Convert date feature to datetime format \n",
    "data['MaturityDate'] = data['MaturityDate'].apply(lambda x: pd.to_datetime(str(x), format='%Y%m'))"
   ]
  },
  {
   "cell_type": "code",
   "execution_count": null,
   "metadata": {
    "id": "rnrnbhAE_6Em"
   },
   "outputs": [],
   "source": [
    "data['FirstPaymentDate'] = data['FirstPaymentDate'].apply(lambda x: pd.to_datetime(str(x), format='%Y%m'))"
   ]
  },
  {
   "cell_type": "code",
   "execution_count": null,
   "metadata": {
    "colab": {
     "base_uri": "https://localhost:8080/"
    },
    "id": "StqQy_Ka_pyT",
    "outputId": "02a7d3fc-73e8-45b7-92c8-a6301a5dd5a8"
   },
   "outputs": [],
   "source": [
    "#Visualize the change on dtypes of features\n",
    "data.info()"
   ]
  },
  {
   "cell_type": "code",
   "execution_count": null,
   "metadata": {
    "colab": {
     "base_uri": "https://localhost:8080/",
     "height": 741
    },
    "id": "mD5vVjeMdMyK",
    "outputId": "4d91d1ff-6ab8-42e2-b73c-2af426d06f72"
   },
   "outputs": [],
   "source": [
    "#View description of all of our features \n",
    "num1_cols = data.describe(include='all')\n",
    "num1_cols"
   ]
  },
  {
   "cell_type": "code",
   "execution_count": null,
   "metadata": {
    "colab": {
     "base_uri": "https://localhost:8080/"
    },
    "id": "RbmH5sF9SA8G",
    "outputId": "1d6e661b-8315-43be-b552-06eda671daa3"
   },
   "outputs": [],
   "source": [
    "#Count number of distinct elements in axis 0.\n",
    "data.nunique()"
   ]
  },
  {
   "cell_type": "code",
   "execution_count": null,
   "metadata": {
    "colab": {
     "base_uri": "https://localhost:8080/"
    },
    "id": "L0ilqVZ0SNfT",
    "outputId": "cf3aa585-f793-4899-9ea2-21f42f79254f"
   },
   "outputs": [],
   "source": [
    "data[\"EverDelinquent\"].value_counts()"
   ]
  },
  {
   "cell_type": "code",
   "execution_count": null,
   "metadata": {
    "colab": {
     "base_uri": "https://localhost:8080/"
    },
    "id": "ruJYSsQ6SPyE",
    "outputId": "8b78ca61-4c69-4a3c-be0c-9417c34ad482"
   },
   "outputs": [],
   "source": [
    "print(\"Seller Name size: \\n\",data.SellerName.value_counts(),\"\\n\\n\")"
   ]
  },
  {
   "cell_type": "code",
   "execution_count": null,
   "metadata": {
    "colab": {
     "base_uri": "https://localhost:8080/"
    },
    "id": "0K15FYsXA6F-",
    "outputId": "14b02da9-5573-4d3e-db95-84d03a653a42"
   },
   "outputs": [],
   "source": [
    "#Return unique values based on a hash table.\n",
    "data['FirstTimeHomebuyer'].unique()"
   ]
  },
  {
   "cell_type": "code",
   "execution_count": null,
   "metadata": {
    "id": "bPPdt4c2p4WV"
   },
   "outputs": [],
   "source": [
    "# X means No\n",
    "# Y means Yes\n",
    "# X means Unknown value "
   ]
  },
  {
   "cell_type": "code",
   "execution_count": null,
   "metadata": {
    "colab": {
     "base_uri": "https://localhost:8080/"
    },
    "id": "wMgHszorEcm1",
    "outputId": "b8799406-4545-4632-caf5-c52026e5b3e0"
   },
   "outputs": [],
   "source": [
    "data['PPM'].unique()"
   ]
  },
  {
   "cell_type": "code",
   "execution_count": null,
   "metadata": {
    "colab": {
     "base_uri": "https://localhost:8080/"
    },
    "id": "DemQQBuEE2ly",
    "outputId": "51d9c28f-8359-4ae6-ef59-0fc07aa73b00"
   },
   "outputs": [],
   "source": [
    "data['NumBorrowers'].unique()\n",
    "# X  means unknown value"
   ]
  },
  {
   "cell_type": "code",
   "execution_count": null,
   "metadata": {
    "colab": {
     "base_uri": "https://localhost:8080/",
     "height": 575
    },
    "id": "9bfZP-ZrT2gZ",
    "outputId": "e56c4ac9-c88e-4415-c641-f7fb6da9e346"
   },
   "outputs": [],
   "source": [
    "#draw piechart of NumBorrowers to see the distribution of its values \n",
    "label_arr=['2','1','x']\n",
    "draw_piechart('NumBorrowers',label_arr)"
   ]
  },
  {
   "cell_type": "code",
   "execution_count": null,
   "metadata": {
    "colab": {
     "base_uri": "https://localhost:8080/",
     "height": 575
    },
    "id": "-wMeRTQaS5zP",
    "outputId": "982739b9-159f-4014-c5d9-fb823d13d0d2"
   },
   "outputs": [],
   "source": [
    "#draw piechart of FirstTimeHomebuyer to see the distribution of its values \n",
    "\n",
    "label_arr=['NO','YES','x']\n",
    "draw_piechart('FirstTimeHomebuyer',label_arr)"
   ]
  },
  {
   "cell_type": "code",
   "execution_count": null,
   "metadata": {
    "colab": {
     "base_uri": "https://localhost:8080/",
     "height": 575
    },
    "id": "LqAeaKOWSm3A",
    "outputId": "a9f35fdd-6eee-493b-c410-15e66de30484"
   },
   "outputs": [],
   "source": [
    "#draw piechart of PPM to see the distribution of its values \n",
    "label_arr=['NO','YES','x']\n",
    "draw_piechart('PPM',label_arr)"
   ]
  },
  {
   "cell_type": "code",
   "execution_count": null,
   "metadata": {
    "colab": {
     "base_uri": "https://localhost:8080/"
    },
    "id": "meHBoopHD7gr",
    "outputId": "830fd32c-f43c-47e1-a135-6bc898f194b3"
   },
   "outputs": [],
   "source": [
    "data['Occupancy'].unique()"
   ]
  },
  {
   "cell_type": "code",
   "execution_count": null,
   "metadata": {
    "colab": {
     "base_uri": "https://localhost:8080/",
     "height": 575
    },
    "id": "IWSparV0Q6p1",
    "outputId": "1324bc8b-a089-44f4-ab59-a04377e974cd"
   },
   "outputs": [],
   "source": [
    "#draw piechart of Occupancy to see the distribution of its values \n",
    "label_arr=['O','I','S']\n",
    "draw_piechart('Occupancy',label_arr)"
   ]
  },
  {
   "cell_type": "code",
   "execution_count": null,
   "metadata": {
    "colab": {
     "base_uri": "https://localhost:8080/"
    },
    "id": "jOuG85VxdtYq",
    "outputId": "4532090d-9101-46bf-a109-79a589d8d535"
   },
   "outputs": [],
   "source": [
    "data['PostalCode'].value_counts()"
   ]
  },
  {
   "cell_type": "code",
   "execution_count": null,
   "metadata": {
    "colab": {
     "base_uri": "https://localhost:8080/"
    },
    "id": "ECIrd-mrEQoZ",
    "outputId": "9d4efeb6-7edb-42d8-aff6-de371b3e37f8"
   },
   "outputs": [],
   "source": [
    "data['LoanPurpose'].unique()"
   ]
  },
  {
   "cell_type": "code",
   "execution_count": null,
   "metadata": {
    "colab": {
     "base_uri": "https://localhost:8080/"
    },
    "id": "gsngYf0kdZAx",
    "outputId": "d760b96d-be36-4126-e7f5-c058bce8ecc3"
   },
   "outputs": [],
   "source": [
    "data['LoanPurpose'].value_counts()"
   ]
  },
  {
   "cell_type": "code",
   "execution_count": null,
   "metadata": {
    "colab": {
     "base_uri": "https://localhost:8080/",
     "height": 575
    },
    "id": "4WRxqBduSKaS",
    "outputId": "556dfeae-e9d3-4981-854e-f55245ce1cb8"
   },
   "outputs": [],
   "source": [
    "#draw piechart of LoanPurpose to see the distribution of its values \n",
    "\n",
    "label_arr=['P','N','C']\n",
    "draw_piechart('LoanPurpose',label_arr)"
   ]
  },
  {
   "cell_type": "code",
   "execution_count": null,
   "metadata": {
    "colab": {
     "base_uri": "https://localhost:8080/"
    },
    "id": "d_wNELxlEWte",
    "outputId": "8f31837c-7b16-49c0-ca0a-2b23a53ed936"
   },
   "outputs": [],
   "source": [
    "data['Channel'].unique()"
   ]
  },
  {
   "cell_type": "code",
   "execution_count": null,
   "metadata": {
    "colab": {
     "base_uri": "https://localhost:8080/",
     "height": 535
    },
    "id": "H9lUzY63SUE0",
    "outputId": "5d48af6b-13b6-4023-e018-b8c854c90a9c"
   },
   "outputs": [],
   "source": [
    "# Draw histogram to know the density of out categorical data: Channel\n",
    "draw_histogram('Channel','Channel graph','Channel','frequency')"
   ]
  },
  {
   "cell_type": "code",
   "execution_count": null,
   "metadata": {
    "id": "NJZnxNqXHyfD"
   },
   "outputs": [],
   "source": [
    "#Convert categorial feature to numerical one by label_encoding function defined earlier\n",
    "label_encoding('Channel')"
   ]
  },
  {
   "cell_type": "markdown",
   "metadata": {
    "id": "831zFOspF2_K"
   },
   "source": [
    "x is unknown neither it is yes or no so we will drop x rows "
   ]
  },
  {
   "cell_type": "code",
   "execution_count": null,
   "metadata": {
    "colab": {
     "base_uri": "https://localhost:8080/"
    },
    "id": "7n-ZLN_dEkWW",
    "outputId": "a6d34925-8b6d-4b25-d996-57c6e957d1f2"
   },
   "outputs": [],
   "source": [
    "data['PropertyState'].unique()"
   ]
  },
  {
   "cell_type": "code",
   "execution_count": null,
   "metadata": {
    "colab": {
     "base_uri": "https://localhost:8080/",
     "height": 537
    },
    "id": "Vbo09ZOeTgri",
    "outputId": "deae0ed2-f959-45d4-99a7-f4679b9d4e7d"
   },
   "outputs": [],
   "source": [
    "# Draw histogram to know the density of out categorical data: PropertyState\n",
    "draw_histogram('PropertyState','PropertyState graph','PropertyState','frequency')"
   ]
  },
  {
   "cell_type": "code",
   "execution_count": null,
   "metadata": {
    "id": "c-_6nRtvIHa1"
   },
   "outputs": [],
   "source": [
    "#Convert it to numerical \n",
    "label_encoding('PropertyState')"
   ]
  },
  {
   "cell_type": "code",
   "execution_count": null,
   "metadata": {
    "colab": {
     "base_uri": "https://localhost:8080/"
    },
    "id": "6F_Nt-c2EqnJ",
    "outputId": "bb3da087-0454-494a-9551-71c12cc763e7"
   },
   "outputs": [],
   "source": [
    "data['PropertyType'].unique()"
   ]
  },
  {
   "cell_type": "code",
   "execution_count": null,
   "metadata": {
    "colab": {
     "base_uri": "https://localhost:8080/",
     "height": 535
    },
    "id": "u_F9EYs6TqRI",
    "outputId": "635a5604-3de9-4dc8-fb1c-1586db5fc021"
   },
   "outputs": [],
   "source": [
    "# Draw histogram to know the density of out categorical data: PropertyType\n",
    "\n",
    "draw_histogram('PropertyType','PropertyType graph','PropertyType','frequency')"
   ]
  },
  {
   "cell_type": "code",
   "execution_count": null,
   "metadata": {
    "id": "W6pno1ZBIKZu"
   },
   "outputs": [],
   "source": [
    "#Convert it to numerical \n",
    "label_encoding('PropertyType')"
   ]
  },
  {
   "cell_type": "markdown",
   "metadata": {
    "id": "g2WI_VJlp4Wb"
   },
   "source": [
    "## Data Visualization"
   ]
  },
  {
   "cell_type": "code",
   "execution_count": null,
   "metadata": {
    "colab": {
     "base_uri": "https://localhost:8080/",
     "height": 989
    },
    "id": "RBy_Wg9RXtEk",
    "outputId": "2d91e62a-7fc7-4c56-bfba-9fa48838958e"
   },
   "outputs": [],
   "source": [
    "plt.figure(figsize=(30,20))\n",
    "sns.countplot(x='ServicerName',data=data,palette=\"twilight_shifted\")\n",
    "plt.xlabel(\"ServicerName\",fontsize=14)\n",
    "plt.show()"
   ]
  },
  {
   "cell_type": "code",
   "execution_count": null,
   "metadata": {
    "colab": {
     "base_uri": "https://localhost:8080/",
     "height": 1000
    },
    "id": "2vrFs-V4X1DE",
    "outputId": "6f198aba-1578-405e-bc7f-a1b994282b90"
   },
   "outputs": [],
   "source": [
    "plt.figure(figsize=(35,35))\n",
    "sns.countplot(x='PropertyState',data=data,palette=\"autumn\")\n",
    "plt.xlabel(\"PropertyState\",fontsize=14)\n",
    "plt.show()"
   ]
  },
  {
   "cell_type": "code",
   "execution_count": null,
   "metadata": {
    "colab": {
     "base_uri": "https://localhost:8080/",
     "height": 713
    },
    "id": "pS2OYqv5X27Q",
    "outputId": "802812a3-a8fd-472b-d08c-378bd7a40a34"
   },
   "outputs": [],
   "source": [
    "plt.figure(figsize=(15,10))\n",
    "sns.barplot('OrigLoanTerm','MonthsInRepayment',data=data,palette='gist_rainbow')\n",
    "plt.xlabel('Original Loan Rate')\n",
    "plt.legend()\n",
    "plt.show()"
   ]
  },
  {
   "cell_type": "code",
   "execution_count": null,
   "metadata": {
    "colab": {
     "base_uri": "https://localhost:8080/",
     "height": 688
    },
    "id": "dI1V1whpYQR0",
    "outputId": "140ae83c-f54d-4616-8915-3a454df23d2a"
   },
   "outputs": [],
   "source": [
    "plt.figure(figsize=(27,10))\n",
    "sns.barplot('OCLTV','MonthsInRepayment',data=data,palette='autumn')\n",
    "plt.xlabel('OCLTV')\n",
    "plt.legend()\n",
    "plt.show()"
   ]
  },
  {
   "cell_type": "code",
   "execution_count": null,
   "metadata": {
    "id": "UhsOFzbFpZBP"
   },
   "outputs": [],
   "source": [
    "#convert LoanPurpose and FirstTimeHomebuyer to numerical data by get_dummies function\n",
    "encoded_data = pd.get_dummies(data['LoanPurpose'], prefix='LoanPurpose')\n",
    "encoded_data2 = pd.get_dummies(data['FirstTimeHomebuyer'], prefix='FirstTimeHomebuyer')\n",
    "data_temp = pd.concat([data, encoded_data], axis=1)\n",
    "data=pd.concat([data_temp,encoded_data2], axis =1)\n",
    "data.drop('LoanPurpose', axis=1,inplace=True)\n",
    "data.drop('FirstTimeHomebuyer', axis =1 , inplace=True)"
   ]
  },
  {
   "cell_type": "markdown",
   "metadata": {
    "id": "zA7BIIOdp4Wc"
   },
   "source": [
    "## Quick Feature Engineering "
   ]
  },
  {
   "cell_type": "code",
   "execution_count": null,
   "metadata": {
    "colab": {
     "base_uri": "https://localhost:8080/"
    },
    "id": "cKuePCYe-jZ6",
    "outputId": "b4763ed5-fbe7-4689-c154-9a8a02916c92"
   },
   "outputs": [],
   "source": [
    "data.columns"
   ]
  },
  {
   "cell_type": "code",
   "execution_count": null,
   "metadata": {
    "id": "tArxf8byBkwO"
   },
   "outputs": [],
   "source": [
    "# Eliminating useless features \n",
    "data.drop(['FirstTimeHomebuyer_X','FirstTimeHomebuyer_N','ServicerName','SellerName','NumBorrowers','PropertyType','PropertyState','ProductType','PPM','Channel','Occupancy','MSA','MaturityDate','FirstPaymentDate'], inplace=True,axis=1)\n"
   ]
  },
  {
   "cell_type": "code",
   "execution_count": null,
   "metadata": {
    "colab": {
     "base_uri": "https://localhost:8080/",
     "height": 270
    },
    "id": "Cd2869ZBQaQU",
    "outputId": "63ac403f-f65b-43e8-cb15-413849d5748e"
   },
   "outputs": [],
   "source": [
    "data.head()"
   ]
  },
  {
   "cell_type": "code",
   "execution_count": null,
   "metadata": {
    "colab": {
     "base_uri": "https://localhost:8080/"
    },
    "id": "G0-nhTPdLbdL",
    "outputId": "959b74b8-69c7-4259-ff9f-d0cb7a575e51"
   },
   "outputs": [],
   "source": [
    "data.isnull().sum()"
   ]
  },
  {
   "cell_type": "code",
   "execution_count": null,
   "metadata": {
    "colab": {
     "base_uri": "https://localhost:8080/"
    },
    "id": "37DimYnPlSZe",
    "outputId": "609d310f-8c5c-4e51-eff6-a7e4f138cd61"
   },
   "outputs": [],
   "source": [
    "#check nulls precentage to be more sure \n",
    "data.isnull().sum()*100/data.shape[0] "
   ]
  },
  {
   "cell_type": "code",
   "execution_count": null,
   "metadata": {
    "id": "e0nQowxBTNH4"
   },
   "outputs": [],
   "source": [
    "data.drop(['PostalCode','LoanSeqNum'], axis=1,inplace=True)"
   ]
  },
  {
   "cell_type": "code",
   "execution_count": null,
   "metadata": {
    "colab": {
     "base_uri": "https://localhost:8080/"
    },
    "id": "XQbjY7IeTEvx",
    "outputId": "4b6c0977-6d07-437f-8521-5c8d863c7257"
   },
   "outputs": [],
   "source": [
    "data.info()\n",
    "#no more categorical variables "
   ]
  },
  {
   "cell_type": "code",
   "execution_count": null,
   "metadata": {
    "colab": {
     "base_uri": "https://localhost:8080/",
     "height": 270
    },
    "id": "hPJXfC4yNx9a",
    "outputId": "da309692-c227-4c7e-b5a6-8382f27c6a87"
   },
   "outputs": [],
   "source": [
    "data.head()"
   ]
  },
  {
   "cell_type": "code",
   "execution_count": null,
   "metadata": {
    "colab": {
     "base_uri": "https://localhost:8080/",
     "height": 364
    },
    "id": "2YVmvtntGWxu",
    "outputId": "bcfc9fe0-1c2e-40c6-fb2a-ad7a1b4396a2"
   },
   "outputs": [],
   "source": [
    "data.describe()"
   ]
  },
  {
   "cell_type": "code",
   "execution_count": null,
   "metadata": {
    "colab": {
     "base_uri": "https://localhost:8080/",
     "height": 615
    },
    "id": "e8U3eHnrGbe8",
    "outputId": "12198720-6d02-4dc5-a122-6075f7d586fc"
   },
   "outputs": [],
   "source": [
    "data.corr()\n",
    "#draw the correlation matrix to see the relationship between variables"
   ]
  },
  {
   "cell_type": "code",
   "execution_count": null,
   "metadata": {
    "colab": {
     "base_uri": "https://localhost:8080/",
     "height": 537
    },
    "id": "-OkKWMYdP3qx",
    "outputId": "7df2cc38-f51b-480c-8628-1d38b5a29c30"
   },
   "outputs": [],
   "source": [
    "#sns.heatmap(data.corr(),cmap='coolwarm',annot=True)\n",
    "#show the correlation between data's features using heat map\n",
    "\n",
    "\n",
    "# Generate correlation matrix\n",
    "corr_matrix = data.corr()\n",
    "\n",
    "# Set figure size\n",
    "plt.figure(figsize=(10,7))\n",
    "\n",
    "# Create heatmap with correlation matrix\n",
    "sns.heatmap(corr_matrix, cmap='coolwarm', annot=True)\n",
    "\n",
    "# Show plot\n",
    "plt.show()\n"
   ]
  },
  {
   "cell_type": "code",
   "execution_count": null,
   "metadata": {
    "colab": {
     "base_uri": "https://localhost:8080/",
     "height": 391
    },
    "id": "jRRG3RTfS-iB",
    "outputId": "756be2bb-6791-4116-aba6-4621ccff1d91",
    "scrolled": true
   },
   "outputs": [],
   "source": [
    "sns.heatmap(data.corr(),cmap='rocket')"
   ]
  },
  {
   "cell_type": "markdown",
   "metadata": {
    "id": "ZLJSY8BGp4Wg"
   },
   "source": [
    "## Handling Outliers"
   ]
  },
  {
   "cell_type": "code",
   "execution_count": null,
   "metadata": {
    "colab": {
     "base_uri": "https://localhost:8080/",
     "height": 282
    },
    "id": "er2hovxtI0bu",
    "outputId": "18774a38-52c9-49f0-aeef-55f9ca9c79f8",
    "scrolled": true
   },
   "outputs": [],
   "source": [
    "sns.boxplot(data=data,palette='rainbow',orient='h')\n",
    "#box plot to all features to show outliers"
   ]
  },
  {
   "cell_type": "code",
   "execution_count": null,
   "metadata": {
    "id": "2nP_dxapp4Wh"
   },
   "outputs": [],
   "source": [
    "#view individual boxplots to visualise outliers"
   ]
  },
  {
   "cell_type": "code",
   "execution_count": null,
   "metadata": {
    "colab": {
     "base_uri": "https://localhost:8080/",
     "height": 368
    },
    "id": "7RzR4WlrJHiv",
    "outputId": "44202960-058c-4790-e929-45c78cd9e68f"
   },
   "outputs": [],
   "source": [
    "draw_boxplot('OrigUPB')"
   ]
  },
  {
   "cell_type": "code",
   "execution_count": null,
   "metadata": {
    "id": "-3vLyuAmJQqe"
   },
   "outputs": [],
   "source": [
    "#drop outliers\n",
    "upp,low=handle_outlier(data['OrigUPB'])"
   ]
  },
  {
   "cell_type": "code",
   "execution_count": null,
   "metadata": {
    "id": "VSIbeOHzO1fV"
   },
   "outputs": [],
   "source": [
    "data['OrigUPB']=np.where(data['OrigUPB']>upp,upp,data['OrigUPB'])\n",
    "data['OrigUPB']=np.where(data['OrigUPB']<low,low,data['OrigUPB'])"
   ]
  },
  {
   "cell_type": "code",
   "execution_count": null,
   "metadata": {
    "colab": {
     "base_uri": "https://localhost:8080/",
     "height": 368
    },
    "id": "QDaqK24HwURv",
    "outputId": "40e25d8e-5674-4783-a001-78866354c109"
   },
   "outputs": [],
   "source": [
    "draw_boxplot('Units')"
   ]
  },
  {
   "cell_type": "code",
   "execution_count": null,
   "metadata": {
    "id": "5HSmZHSVwZoP"
   },
   "outputs": [],
   "source": [
    "upper,lower=handle_outlier(data['Units'])"
   ]
  },
  {
   "cell_type": "code",
   "execution_count": null,
   "metadata": {
    "id": "Ii_tlqYmwggo"
   },
   "outputs": [],
   "source": [
    "data['Units']=np.where(data['Units']>upper,upper,data['Units'])\n",
    "data['Units']=np.where(data['Units']<lower,lower,data['Units'])"
   ]
  },
  {
   "cell_type": "code",
   "execution_count": null,
   "metadata": {
    "colab": {
     "base_uri": "https://localhost:8080/",
     "height": 368
    },
    "id": "weZz79GgwsRw",
    "outputId": "f1cedd3f-6852-43fd-b664-ced33a526b12"
   },
   "outputs": [],
   "source": [
    "draw_boxplot('OrigInterestRate')"
   ]
  },
  {
   "cell_type": "code",
   "execution_count": null,
   "metadata": {
    "id": "dlBmik5Mw3iW"
   },
   "outputs": [],
   "source": [
    "uppero,lowero=handle_outlier(data['OrigInterestRate'])"
   ]
  },
  {
   "cell_type": "code",
   "execution_count": null,
   "metadata": {
    "id": "PxPRR1ycw5Se"
   },
   "outputs": [],
   "source": [
    "data['OrigInterestRate']=np.where(data['OrigInterestRate']>uppero,uppero,data['OrigInterestRate'])\n",
    "data['OrigInterestRate']=np.where(data['OrigInterestRate']<lowero,lowero,data['OrigInterestRate'])"
   ]
  },
  {
   "cell_type": "code",
   "execution_count": null,
   "metadata": {
    "colab": {
     "base_uri": "https://localhost:8080/"
    },
    "id": "b7JcgmsCUmgA",
    "outputId": "c85ae63f-dbbd-4f2a-e7d6-723253eed98e"
   },
   "outputs": [],
   "source": [
    "#checking for duplicates values to drop them\n",
    "duplicate=data.duplicated()\n",
    "print(duplicate.sum())"
   ]
  },
  {
   "cell_type": "code",
   "execution_count": null,
   "metadata": {
    "id": "VSHYE1ClUS_Q"
   },
   "outputs": [],
   "source": [
    "data=data.drop_duplicates()"
   ]
  },
  {
   "cell_type": "code",
   "execution_count": null,
   "metadata": {
    "colab": {
     "base_uri": "https://localhost:8080/"
    },
    "id": "R3zBXsw-Uh-3",
    "outputId": "a6237a5c-d0cb-4711-f068-1546ab8f18fe"
   },
   "outputs": [],
   "source": [
    "duplicate=data.duplicated()\n",
    "print(duplicate.sum())"
   ]
  },
  {
   "cell_type": "markdown",
   "metadata": {
    "id": "BM0eu4t2p4Wj"
   },
   "source": [
    "## New Data Visualisation "
   ]
  },
  {
   "cell_type": "code",
   "execution_count": null,
   "metadata": {
    "colab": {
     "base_uri": "https://localhost:8080/",
     "height": 935
    },
    "id": "gWqGWdXqWFjD",
    "outputId": "89927a47-e087-41bd-b0af-3f4146f8b972"
   },
   "outputs": [],
   "source": [
    "plt.figure(figsize=(20,16))\n",
    "sns.lineplot(data=data)"
   ]
  },
  {
   "cell_type": "code",
   "execution_count": null,
   "metadata": {
    "colab": {
     "base_uri": "https://localhost:8080/",
     "height": 441
    },
    "id": "nfp63ec-Y2pk",
    "outputId": "aa22a727-fc49-4cf2-e471-dd7113a42a8a"
   },
   "outputs": [],
   "source": [
    "draw_join_plot(data['MonthsInRepayment'],data['OrigUPB'])"
   ]
  },
  {
   "cell_type": "code",
   "execution_count": null,
   "metadata": {
    "colab": {
     "base_uri": "https://localhost:8080/"
    },
    "id": "55oKF1GWgbzs",
    "outputId": "2b611389-0e8f-4658-8ae6-adfbb4bf04d9"
   },
   "outputs": [],
   "source": [
    "data['EverDelinquent'].unique()"
   ]
  },
  {
   "cell_type": "code",
   "execution_count": null,
   "metadata": {
    "colab": {
     "base_uri": "https://localhost:8080/"
    },
    "id": "-7wx06IwUsXC",
    "outputId": "e923ea16-7e94-48e3-d8ff-ed5f7d84bb1f"
   },
   "outputs": [],
   "source": [
    "data['EverDelinquent'].value_counts()"
   ]
  },
  {
   "cell_type": "code",
   "execution_count": null,
   "metadata": {
    "colab": {
     "base_uri": "https://localhost:8080/",
     "height": 535
    },
    "id": "J1kvVFPQaAYX",
    "outputId": "7efe2f1b-b68b-4dab-8873-a11e1648e38d"
   },
   "outputs": [],
   "source": [
    "draw_histogram('EverDelinquent','EverDelinquent graph','answer','frequency')"
   ]
  },
  {
   "cell_type": "code",
   "execution_count": null,
   "metadata": {
    "colab": {
     "base_uri": "https://localhost:8080/",
     "height": 575
    },
    "id": "50qFeiI5giYn",
    "outputId": "7efd3601-f62c-4f9a-a7ca-025846506a35"
   },
   "outputs": [],
   "source": [
    "labels=['NO','YES']\n",
    "draw_piechart('EverDelinquent',labels)"
   ]
  },
  {
   "cell_type": "code",
   "execution_count": null,
   "metadata": {
    "colab": {
     "base_uri": "https://localhost:8080/",
     "height": 379
    },
    "id": "6SAJboebTja-",
    "outputId": "8215d8f4-e84c-46b6-fadc-c14266f7e46e"
   },
   "outputs": [],
   "source": [
    "ax = sns.distplot(data,\n",
    "                  kde=False,\n",
    "                  color='blue')\n",
    "ax.set(xlabel='data Distribution', ylabel='Frequency')\n",
    " \n",
    "plt.show()"
   ]
  },
  {
   "cell_type": "code",
   "execution_count": null,
   "metadata": {
    "colab": {
     "base_uri": "https://localhost:8080/",
     "height": 368
    },
    "id": "6X6xoe4KTkYr",
    "outputId": "9063e6d9-7869-4856-cb22-59ca97a3d3d1"
   },
   "outputs": [],
   "source": [
    "import scipy.stats as stats\n",
    "ax = sns.distplot(data,\n",
    "                  bins=50,\n",
    "                  kde=True,\n",
    "                  color='red',\n",
    "                  hist_kws={\"linewidth\": 15,'alpha':1})\n",
    "ax.set(xlabel='Normal Distribution', ylabel='Frequency')\n",
    " \n",
    "plt.show()"
   ]
  },
  {
   "cell_type": "code",
   "execution_count": null,
   "metadata": {
    "colab": {
     "base_uri": "https://localhost:8080/"
    },
    "id": "KIbFVdN-ZFm0",
    "outputId": "2a73ac14-80ba-4cc3-eaa9-a16b9c299071"
   },
   "outputs": [],
   "source": [
    "#calculating z score to know how far from mean value (by calculating standard deviation)\n",
    "#help you to know more about data\n",
    "from scipy import stats\n",
    "z_score=np.abs(stats.zscore(data))\n",
    "print (z_score)"
   ]
  },
  {
   "cell_type": "code",
   "execution_count": null,
   "metadata": {
    "colab": {
     "base_uri": "https://localhost:8080/",
     "height": 1000
    },
    "id": "DN9jxLsPZ6bh",
    "outputId": "dee51219-c0be-4c02-8e8f-a3265c459476",
    "scrolled": true
   },
   "outputs": [],
   "source": [
    "# view Standard Normal Distribution for all features \n",
    "z_score.hist(color='slategray',figsize=(30,20))\n",
    "plt.title(\"Standard Normal Distribution\", y=1.015, fontsize=22)\n",
    "plt.xlabel(\"z-score\", labelpad=14)\n",
    "plt.ylabel(\"frequency\", labelpad=14);\n"
   ]
  },
  {
   "cell_type": "markdown",
   "metadata": {
    "id": "f5Y3ljAqp4Wn"
   },
   "source": [
    "## Feature Extraction with PCA"
   ]
  },
  {
   "cell_type": "code",
   "execution_count": null,
   "metadata": {
    "colab": {
     "base_uri": "https://localhost:8080/",
     "height": 542
    },
    "id": "5Un1bEEq3aV5",
    "outputId": "83365f1b-8415-407a-bea4-70e97066fe13",
    "scrolled": true
   },
   "outputs": [],
   "source": [
    "import plotly.express as px\n",
    "from sklearn.decomposition import PCA\n",
    "\n",
    "\n",
    "n_components = 5\n",
    "\n",
    "pca = PCA(n_components=n_components)\n",
    "components = pca.fit_transform(data)\n",
    "\n",
    "total_var = pca.explained_variance_ratio_.sum() * 100\n",
    "\n",
    "labels = {str(i): f\"PC {i+1}\" for i in range(n_components)}\n",
    "labels['color'] = 'Median Price'\n",
    "\n",
    "fig = px.scatter_matrix(\n",
    "    components,\n",
    "    color=data['EverDelinquent'],\n",
    "    dimensions=range(n_components),\n",
    "    labels=labels,\n",
    "    title=f'Total Explained Variance: {total_var:.2f}%',\n",
    ")\n",
    "fig.update_traces(diagonal_visible=False)\n",
    "fig.show()"
   ]
  },
  {
   "cell_type": "code",
   "execution_count": null,
   "metadata": {
    "id": "C5wOQ8uAp4Wn"
   },
   "outputs": [],
   "source": [
    "#that make a distribution of the data become clear"
   ]
  },
  {
   "cell_type": "code",
   "execution_count": null,
   "metadata": {
    "id": "m17lzOGWUEVT"
   },
   "outputs": [],
   "source": [
    "from pandas_profiling import ProfileReport"
   ]
  },
  {
   "cell_type": "code",
   "execution_count": null,
   "metadata": {
    "colab": {
     "base_uri": "https://localhost:8080/",
     "height": 917,
     "referenced_widgets": [
      "b1b6dae8b2ba4d769479b55b1763bca7",
      "c76de87313b949a2a477d8c43a43fef4",
      "232c914fb1dc4277b12bcbfb24f82408",
      "9ecc7fd0c389469b983b7fa412543351",
      "d680408c14fc440f8758fc5225f6bf75",
      "136899abb8d047449c5616aaa4fdb1cc",
      "a6af9250976a4eee862d81ee631d2623",
      "07ce5ab9e18649f3a5c31a269ef52112",
      "ab0943e7b0174c38b84962eba777c4ff",
      "76cfdd1ccdf64ccb95ee36ca5ae303e0",
      "bae1529977c844bd95a85b8723aa4378",
      "f4fda49d273c4564aade525b9b116ad8",
      "674fdf5f9b8742c391a518a102f0dc51",
      "a80d21e8668945db9b67040e879f4124",
      "c53ab380083141bc9b53379bce6cfbaa",
      "227514f1d9d94b9996756fd6bbc86b4a",
      "935b2e5e0cbf4cfd88845f84ce5ed59e",
      "76b6167982ea4b0bb7ead342c30b3065",
      "3c434036191a4a75a9bdda7daa8a370b",
      "88299fd706914ca1b776f69613b7c986",
      "024a9eba58a44fa29d7370fc532e713e",
      "e322c00c81fa48ab955e684bcbd47f09",
      "93bffd82888b4c67b05dd43a81e52c53",
      "5397aa84c5834abeab404cd12955903e",
      "9391d266297c42888ac86227e7e01274",
      "773cc428f97f49059bd271eecf7ae41e",
      "d3c964fc8d254c73b3683caa290b87ad",
      "da8359c146dd4b05af8c481306502277",
      "0d73778ff76949a9b807b8fa343b2ec0",
      "d33b593004dc4c8da3f2a289017d975a",
      "46a0e1d4ec184ecba14169d142a1af67",
      "89d62978935944508219a7eb314a691b",
      "45dc76f5d46846c8868424f89a122ac5"
     ]
    },
    "id": "0rQ9J3QXbfR6",
    "outputId": "91f7d2d9-5407-48e8-e79d-b95c5416353e",
    "scrolled": true
   },
   "outputs": [],
   "source": [
    "#Quick Recap of EDA \n",
    "profile=ProfileReport(data)\n",
    "profile\n"
   ]
  },
  {
   "cell_type": "markdown",
   "metadata": {
    "id": "nd5yMX59p4Wo"
   },
   "source": [
    "## Feature Engineering "
   ]
  },
  {
   "cell_type": "code",
   "execution_count": null,
   "metadata": {
    "colab": {
     "base_uri": "https://localhost:8080/",
     "height": 270
    },
    "id": "NSyQxbX1IxoX",
    "outputId": "b9fddbee-0f35-4b9f-d1a1-bdb28c9dc3d1"
   },
   "outputs": [],
   "source": [
    "data.head()"
   ]
  },
  {
   "cell_type": "code",
   "execution_count": null,
   "metadata": {
    "id": "JS8n4UXCAJp-"
   },
   "outputs": [],
   "source": [
    "import pandas as pd\n",
    "\n",
    "def calculate_credit_range(row):\n",
    "    if row['CreditScore'] >= 750:\n",
    "        return 'excellent'\n",
    "    elif row['CreditScore'] >= 700:\n",
    "        return 'good'\n",
    "    elif row['CreditScore'] >= 650:\n",
    "        return 'fair'\n",
    "    else:\n",
    "        return 'poor'\n",
    "    \n",
    "def calculate_ltv_range(row):\n",
    "    if row['LTV'] < 75:\n",
    "        return 'low'\n",
    "    elif row['LTV'] >= 75 and row['LTV'] < 80:\n",
    "        return 'medium'\n",
    "    elif row['LTV'] >= 80 and row['LTV'] < 90:\n",
    "        return 'high'\n",
    "    else:\n",
    "        return 'very high'\n",
    "    \n",
    "def calculate_repay_range(row):\n",
    "    if row['OrigInterestRate'] < 4:\n",
    "        return 'low'\n",
    "    elif row['OrigInterestRate'] >= 4 and row['OrigInterestRate'] < 6:\n",
    "        return 'medium'\n",
    "    else:\n",
    "        return 'high'\n",
    "\n",
    "data['CreditRange'] = data.apply(calculate_credit_range, axis=1)\n",
    "data['LTVRange'] = data.apply(calculate_ltv_range, axis=1)\n",
    "data['RepayRange'] = data.apply(calculate_repay_range, axis=1)\n",
    "\n",
    "\n",
    "# convert categorical ranges to numerical features\n",
    "credit_range_dummies = pd.get_dummies(data['CreditRange'], prefix='CreditRange')\n",
    "label_encoding('LTVRange')\n",
    "repay_range_dummies = pd.get_dummies(data['RepayRange'], prefix='RepayRange')\n",
    "\n",
    "# concatenate the newly created numerical features to the original data\n",
    "raw_data = pd.concat([data, credit_range_dummies, repay_range_dummies], axis=1)\n",
    "\n",
    "# drop the original categorical ranges\n",
    "raw_data = raw_data.drop(['CreditRange', 'RepayRange'], axis=1)\n"
   ]
  },
  {
   "cell_type": "code",
   "execution_count": null,
   "metadata": {
    "colab": {
     "base_uri": "https://localhost:8080/"
    },
    "id": "xDfnbmood8wF",
    "outputId": "8adcda45-a844-4bf3-9e11-0916efcd966a"
   },
   "outputs": [],
   "source": [
    "raw_data.isnull().sum()"
   ]
  },
  {
   "cell_type": "code",
   "execution_count": null,
   "metadata": {
    "id": "KDEmZNlGzZhP"
   },
   "outputs": [],
   "source": [
    "data.drop([\"MonthsInRepayment\",'MonthsDelinquent'],axis=1,inplace=True)\n",
    "raw_data.drop([\"MonthsInRepayment\",'MonthsDelinquent'],axis=1,inplace=True)\n",
    "#because they are strongly corrolated with the target and causes data leakage (over fitting)"
   ]
  },
  {
   "cell_type": "code",
   "execution_count": null,
   "metadata": {
    "id": "iWIlFXIsp4Wp"
   },
   "outputs": [],
   "source": [
    "#Splitting data to features and label data "
   ]
  },
  {
   "cell_type": "code",
   "execution_count": null,
   "metadata": {
    "colab": {
     "base_uri": "https://localhost:8080/"
    },
    "id": "FhJCAAZq36V8",
    "outputId": "9caf122b-5362-40ec-cae1-1781bc2c9513"
   },
   "outputs": [],
   "source": [
    "raw_data.columns   "
   ]
  },
  {
   "cell_type": "code",
   "execution_count": null,
   "metadata": {
    "id": "Tngw2esbfvQ1"
   },
   "outputs": [],
   "source": [
    "x=raw_data.drop(['EverDelinquent'], axis=1)\n",
    "y=raw_data['EverDelinquent']"
   ]
  },
  {
   "cell_type": "code",
   "execution_count": null,
   "metadata": {
    "colab": {
     "base_uri": "https://localhost:8080/"
    },
    "id": "M2N3Mmkz_P4x",
    "outputId": "094f456e-bbfb-4fd4-dc90-7c7509e09049"
   },
   "outputs": [],
   "source": [
    "x.columns"
   ]
  },
  {
   "cell_type": "code",
   "execution_count": null,
   "metadata": {
    "colab": {
     "base_uri": "https://localhost:8080/",
     "height": 279
    },
    "id": "FQGkn08igyT-",
    "outputId": "e569d9ed-9c49-43b9-d9e5-013e89904794"
   },
   "outputs": [],
   "source": [
    "from sklearn.decomposition import PCA\n",
    "pca = PCA().fit(x)\n",
    "plt.plot(np.cumsum(pca.explained_variance_ratio_))\n",
    "plt.xlabel('number of components')\n",
    "plt.ylabel('cumulative explained variance')\n",
    "plt.show()\n"
   ]
  },
  {
   "cell_type": "code",
   "execution_count": null,
   "metadata": {
    "id": "pA7HydC4p4Wq"
   },
   "outputs": [],
   "source": [
    "#Scalling feature data "
   ]
  },
  {
   "cell_type": "code",
   "execution_count": null,
   "metadata": {
    "id": "H_Y59OwZfRue"
   },
   "outputs": [],
   "source": [
    "from sklearn.preprocessing import StandardScaler\n",
    "\n",
    "scaler = StandardScaler()\n",
    "stat_data = scaler.fit_transform(x)\n"
   ]
  },
  {
   "cell_type": "code",
   "execution_count": null,
   "metadata": {
    "colab": {
     "base_uri": "https://localhost:8080/"
    },
    "id": "olhx3DIleddO",
    "outputId": "4bce179d-3756-481f-8d03-0f816a3a3615"
   },
   "outputs": [],
   "source": [
    "x.isnull().sum()"
   ]
  },
  {
   "cell_type": "code",
   "execution_count": null,
   "metadata": {
    "colab": {
     "base_uri": "https://localhost:8080/",
     "height": 267
    },
    "id": "mChnvoPBflM-",
    "outputId": "71fd27f7-00f1-4600-ab7c-e0b2d32b77db"
   },
   "outputs": [],
   "source": [
    "plt.hist(x)\n",
    "plt.show()\n"
   ]
  },
  {
   "cell_type": "code",
   "execution_count": null,
   "metadata": {
    "colab": {
     "base_uri": "https://localhost:8080/"
    },
    "id": "vdTnDd2RAk-b",
    "outputId": "0948976c-9843-477a-c828-d81a1aec1c32"
   },
   "outputs": [],
   "source": [
    "!pip install category_encoders\n",
    "#to install the needed liberary "
   ]
  },
  {
   "cell_type": "code",
   "execution_count": null,
   "metadata": {
    "colab": {
     "base_uri": "https://localhost:8080/",
     "height": 709
    },
    "id": "Z69ySyzXdt_l",
    "outputId": "8aa170a4-362f-49db-eccc-9d702801e1c3"
   },
   "outputs": [],
   "source": [
    "x.corr()"
   ]
  },
  {
   "cell_type": "code",
   "execution_count": null,
   "metadata": {
    "colab": {
     "base_uri": "https://localhost:8080/"
    },
    "id": "WGqQfw3VeEyT",
    "outputId": "ca7a8629-27ba-48f0-c170-003fbecd209f",
    "scrolled": true
   },
   "outputs": [],
   "source": [
    "x.isnull().sum()"
   ]
  },
  {
   "cell_type": "markdown",
   "metadata": {
    "id": "aImn7A1Op4Ws"
   },
   "source": [
    "  ## Mutual Information"
   ]
  },
  {
   "cell_type": "code",
   "execution_count": null,
   "metadata": {
    "id": "UkxMczKZp4Ws"
   },
   "outputs": [],
   "source": [
    "# Select the most important features "
   ]
  },
  {
   "cell_type": "code",
   "execution_count": null,
   "metadata": {
    "id": "JTfKLsSIkty0"
   },
   "outputs": [],
   "source": [
    "import category_encoders as ce\n",
    "from sklearn.feature_selection import SelectKBest , SelectPercentile , mutual_info_classif"
   ]
  },
  {
   "cell_type": "code",
   "execution_count": null,
   "metadata": {
    "colab": {
     "base_uri": "https://localhost:8080/"
    },
    "id": "rCp2lOI7MBbI",
    "outputId": "0aa5da9c-4492-469b-f5cd-e6ea2d1af58a"
   },
   "outputs": [],
   "source": [
    "from sklearn.feature_selection import mutual_info_classif as MIC\n",
    "mi_score = MIC(x,y)\n",
    "print(mi_score)"
   ]
  },
  {
   "cell_type": "code",
   "execution_count": null,
   "metadata": {
    "colab": {
     "base_uri": "https://localhost:8080/",
     "height": 645
    },
    "id": "7bZQs9JhDC0n",
    "outputId": "c67c1edf-8b33-4aa4-fd2c-d3b1da88ea4c"
   },
   "outputs": [],
   "source": [
    "from sklearn.feature_selection import chi2\n",
    "best_features=SelectKBest(score_func=chi2,k=10)\n",
    "fit=best_features.fit(x,y)\n",
    "df_scores= pd.DataFrame(fit.scores_)\n",
    "df_col=pd.DataFrame(x.columns)\n",
    "features_score =pd.concat([df_col,df_scores], axis=1)\n",
    "features_score.columns=['feature','score']\n",
    "features_score.sort_values(by=['score'],ascending=False)"
   ]
  },
  {
   "cell_type": "code",
   "execution_count": null,
   "metadata": {
    "colab": {
     "base_uri": "https://localhost:8080/"
    },
    "id": "3brE6ISOldsa",
    "outputId": "f33175f7-2fc4-4e20-8ba8-6af6cdb8be53"
   },
   "outputs": [],
   "source": [
    "selector=SelectKBest(mutual_info_classif,k=15)\n",
    "x_selected=selector.fit_transform(x,y)\n",
    "cols=selector.get_support(indices=True)\n",
    "selected_features = x.iloc[:,cols].columns.tolist()\n",
    "selected_features"
   ]
  },
  {
   "cell_type": "code",
   "execution_count": null,
   "metadata": {
    "colab": {
     "base_uri": "https://localhost:8080/"
    },
    "id": "bgtvrJ4KHOPC",
    "outputId": "3ba02aa8-1642-42a1-c2fa-164ae6328901",
    "scrolled": true
   },
   "outputs": [],
   "source": [
    "from sklearn.ensemble import ExtraTreesClassifier\n",
    "model=ExtraTreesClassifier()\n",
    "model.fit(x,y)\n",
    "print(model.feature_importances_)"
   ]
  },
  {
   "cell_type": "code",
   "execution_count": null,
   "metadata": {
    "id": "3J3VdALfp4Wu"
   },
   "outputs": [],
   "source": [
    "#view feature importance"
   ]
  },
  {
   "cell_type": "code",
   "execution_count": null,
   "metadata": {
    "colab": {
     "base_uri": "https://localhost:8080/",
     "height": 265
    },
    "id": "HYRLJOU2IbNC",
    "outputId": "f58e40bb-9f7d-452b-ac8f-cd26933ee4d7"
   },
   "outputs": [],
   "source": [
    "feat_imp=pd.Series(model.feature_importances_,index=x.columns)\n",
    "feat_imp.nlargest(20).plot(kind='barh')\n",
    "plt.show()"
   ]
  },
  {
   "cell_type": "code",
   "execution_count": null,
   "metadata": {
    "colab": {
     "base_uri": "https://localhost:8080/"
    },
    "id": "czMdX7R1fQcU",
    "outputId": "2989611b-42fd-4b4e-da7d-5113d72bdbbd"
   },
   "outputs": [],
   "source": [
    "from sklearn.feature_selection import mutual_info_regression\n",
    "discrete_features = x.dtypes == int\n",
    "def make_mi_scores(X, y):\n",
    "    mi_scores = mutual_info_regression(X, y, discrete_features=discrete_features)\n",
    "    mi_scores = pd.Series(mi_scores, name=\"MI Scores\", index=X.columns)\n",
    "    mi_scores = mi_scores.sort_values(ascending=False)\n",
    "    return mi_scores\n",
    "\n",
    "mi_scores = make_mi_scores(x, y)\n",
    "mi_scores[::] "
   ]
  },
  {
   "cell_type": "code",
   "execution_count": null,
   "metadata": {
    "colab": {
     "base_uri": "https://localhost:8080/"
    },
    "id": "nyeUrX6-rv1_",
    "outputId": "a0783451-83cd-4cc6-c433-e81fa9f3f6c3"
   },
   "outputs": [],
   "source": [
    "raw_data.columns"
   ]
  },
  {
   "cell_type": "code",
   "execution_count": null,
   "metadata": {
    "id": "PRZzUgD-p4Wv"
   },
   "outputs": [],
   "source": [
    "#Select best features after PCA"
   ]
  },
  {
   "cell_type": "code",
   "execution_count": null,
   "metadata": {
    "id": "1Bt-RC-lgA4L"
   },
   "outputs": [],
   "source": [
    "import pandas as pd\n",
    "from sklearn.feature_selection import SelectKBest\n",
    "from sklearn.feature_selection import mutual_info_regression\n",
    "\n",
    "\n",
    "# Define the number of top features to select\n",
    "N = 11\n",
    "\n",
    "# Select top N features based on mutual information\n",
    "selector = SelectKBest(score_func=mutual_info_regression, k=N)\n",
    "X_selected = selector.fit_transform(x, y)\n",
    "\n",
    "# Get the indices of the selected features\n",
    "selected_feature_indices = selector.get_support(indices=True)\n",
    "\n",
    "# Get the names of the selected features\n",
    "selected_features = x.columns[selected_feature_indices].tolist()\n",
    "\n"
   ]
  },
  {
   "cell_type": "code",
   "execution_count": null,
   "metadata": {
    "colab": {
     "base_uri": "https://localhost:8080/"
    },
    "id": "8blsOuWogFk9",
    "outputId": "59ff47bd-8d04-4240-9005-66859e75e269"
   },
   "outputs": [],
   "source": [
    "df_selected = pd.DataFrame(X_selected)\n",
    "\n",
    "df_selected.dtypes"
   ]
  },
  {
   "cell_type": "code",
   "execution_count": null,
   "metadata": {
    "id": "0h0tzs2Id9yA"
   },
   "outputs": [],
   "source": [
    "from sklearn.preprocessing import StandardScaler\n",
    "\n",
    "scaler = StandardScaler()\n",
    "x= scaler.fit_transform(x)\n"
   ]
  },
  {
   "cell_type": "code",
   "execution_count": null,
   "metadata": {
    "id": "wE3K1U3DY_en"
   },
   "outputs": [],
   "source": [
    "pca=PCA(n_components=6)\n",
    "pca.fit(x)\n",
    "features=pca.transform(x)"
   ]
  },
  {
   "cell_type": "markdown",
   "metadata": {
    "id": "mMpJBfesp4Wx"
   },
   "source": [
    "## Modelling"
   ]
  },
  {
   "cell_type": "code",
   "execution_count": null,
   "metadata": {
    "colab": {
     "base_uri": "https://localhost:8080/"
    },
    "id": "h3miyH2zgJox",
    "outputId": "714afedb-b0a7-4076-da90-ee817efcf0fc"
   },
   "outputs": [],
   "source": [
    "from sklearn.model_selection import train_test_split\n",
    "\n",
    "\n",
    "# separate features and labels\n",
    "import pandas as pd\n",
    "df_selected = pd.DataFrame(X_selected)\n",
    "# features = df_selected\n",
    "\n",
    "df_labels = pd.DataFrame(y)\n",
    "labels = df_labels[\"EverDelinquent\"]\n",
    "\n",
    "\n",
    "# Split the data into training and test sets\n",
    "X_train, X_test, y_train, y_test = train_test_split(features, labels, test_size=0.2, random_state=42)\n",
    "X_train, X_val, y_train, y_val = train_test_split(X_train, y_train, \n",
    "    test_size=0.25, random_state= 8) \n",
    "\n",
    "\n",
    "print(\"X_train shape: {}\".format(X_train.shape))\n",
    "print(\"X_test shape: {}\".format(X_test.shape))\n",
    "print(\"y_train shape: {}\".format(y_train.shape))\n",
    "print(\"y_test shape: {}\".format(y_test.shape))\n",
    "print(\"X_val shape: {}\".format(y_train.shape))\n",
    "print(\"y val shape: {}\".format(y_test.shape))\n"
   ]
  },
  {
   "cell_type": "code",
   "execution_count": null,
   "metadata": {
    "colab": {
     "base_uri": "https://localhost:8080/"
    },
    "id": "zR0jSg64gcxE",
    "outputId": "f7b0335c-88ae-492a-8ef4-ed01741796ba"
   },
   "outputs": [],
   "source": [
    "features.shape"
   ]
  },
  {
   "cell_type": "code",
   "execution_count": null,
   "metadata": {
    "colab": {
     "base_uri": "https://localhost:8080/"
    },
    "id": "UJvIKqz3ge20",
    "outputId": "c75259fd-7d5e-4276-cc2e-b5bf1f883152"
   },
   "outputs": [],
   "source": [
    "labels.shape"
   ]
  },
  {
   "cell_type": "code",
   "execution_count": null,
   "metadata": {
    "colab": {
     "base_uri": "https://localhost:8080/"
    },
    "id": "i__cvxRHglXR",
    "outputId": "68788549-3f38-437d-cf2d-926c1690c591"
   },
   "outputs": [],
   "source": [
    "labels.value_counts()"
   ]
  },
  {
   "cell_type": "code",
   "execution_count": null,
   "metadata": {
    "id": "4idOBSKTWkZc"
   },
   "outputs": [],
   "source": [
    "from imblearn.over_sampling import SMOTE\n",
    "oversampled = SMOTE(random_state=0)\n",
    "X_train_smote, y_train_smote = oversampled.fit_resample(X_train, y_train)"
   ]
  },
  {
   "cell_type": "code",
   "execution_count": null,
   "metadata": {
    "colab": {
     "base_uri": "https://localhost:8080/"
    },
    "id": "nUClmrx9WyYr",
    "outputId": "0a6d4eef-d34b-4789-9083-f662e6580e1a",
    "scrolled": true
   },
   "outputs": [],
   "source": [
    "y_train_smote.value_counts()"
   ]
  },
  {
   "cell_type": "markdown",
   "metadata": {
    "id": "KibaExwep4W1"
   },
   "source": [
    "## Random Forest Model "
   ]
  },
  {
   "cell_type": "code",
   "execution_count": null,
   "metadata": {
    "id": "yPy9GgOqQnnU"
   },
   "outputs": [],
   "source": [
    "from sklearn.ensemble import RandomForestClassifier"
   ]
  },
  {
   "cell_type": "code",
   "execution_count": null,
   "metadata": {
    "colab": {
     "base_uri": "https://localhost:8080/"
    },
    "id": "lYG19ONpqxqy",
    "outputId": "9829d1d5-86b9-40ea-d4ad-5b6bda555932"
   },
   "outputs": [],
   "source": [
    "\n",
    "from sklearn.ensemble import RandomForestClassifier\n",
    "from sklearn.model_selection import train_test_split\n",
    "from sklearn.metrics import accuracy_score\n",
    "\n",
    "\n",
    "\n",
    "# Train the random forest classifier\n",
    "rf = RandomForestClassifier(n_estimators=2)\n",
    "rf.fit(X_train_smote, y_train_smote)\n",
    "\n",
    "# Make predictions on the test set\n",
    "y_pred = rf.predict(X_test)\n",
    "\n",
    "# Evaluate the model's accuracy\n",
    "accuracy = accuracy_score(y_test, y_pred)\n",
    "print(\"Accuracy:\", accuracy)\n"
   ]
  },
  {
   "cell_type": "code",
   "execution_count": null,
   "metadata": {
    "colab": {
     "base_uri": "https://localhost:8080/"
    },
    "id": "lJQO3R1vUPjd",
    "outputId": "89c535a0-5b8d-4c4e-8164-f4a19b583847"
   },
   "outputs": [],
   "source": [
    "#Testing Accuracy\n",
    "from sklearn.metrics import accuracy_score, confusion_matrix, classification_report\n",
    "\n",
    "y_pred_test = rf.predict(X_test)\n",
    "y_pred_test[0:5]\n",
    "\n",
    "\n",
    "testing_accuracy = accuracy_score(y_test,y_pred_test)*100\n",
    "print('Testing data accuracy is:', testing_accuracy)\n",
    "print()\n",
    "\n",
    "clf_report = classification_report(y_test,y_pred_test)\n",
    "print('Classification report:\\n', clf_report)\n",
    "print()\n",
    "\n",
    "confusion_matrix(y_test,y_pred_test)"
   ]
  },
  {
   "cell_type": "code",
   "execution_count": null,
   "metadata": {
    "colab": {
     "base_uri": "https://localhost:8080/"
    },
    "id": "S3OEjq8vUkXi",
    "outputId": "b81c0c80-9a77-44b9-f3fd-7e241d7b2fc6"
   },
   "outputs": [],
   "source": [
    "#Training Accuracy\n",
    "\n",
    "y_pred_train = rf.predict(X_train)\n",
    "y_pred_train\n",
    "\n",
    "\n",
    "training_accuracy = accuracy_score(y_train,y_pred_train)*100\n",
    "print('training data accuracy is:', training_accuracy)\n",
    "print()\n",
    "\n",
    "clf_report = classification_report(y_train,y_pred_train)\n",
    "print('Classification report:\\n', clf_report)\n",
    "print()\n",
    "\n",
    "confusion_matrix(y_train,y_pred_train)"
   ]
  },
  {
   "cell_type": "code",
   "execution_count": null,
   "metadata": {
    "colab": {
     "base_uri": "https://localhost:8080/"
    },
    "id": "oS6XO9h0VW9l",
    "outputId": "0042fc61-d858-43c6-8e20-d25efb93f703"
   },
   "outputs": [],
   "source": [
    "accuracy_score(y_test,y_pred)"
   ]
  },
  {
   "cell_type": "code",
   "execution_count": null,
   "metadata": {
    "colab": {
     "base_uri": "https://localhost:8080/"
    },
    "id": "Vt_l1k1L1Hba",
    "outputId": "df65c805-c79d-4d9f-af2f-db7166a5ce8b"
   },
   "outputs": [],
   "source": [
    "from sklearn.metrics import roc_auc_score\n",
    "roc_auc_score(y_test,y_pred)"
   ]
  },
  {
   "cell_type": "markdown",
   "metadata": {
    "id": "Hp6awPTsp4W3"
   },
   "source": [
    "## SVC Model (Support Vector Machine)"
   ]
  },
  {
   "cell_type": "code",
   "execution_count": null,
   "metadata": {
    "id": "Rz5BGdUFoJhb"
   },
   "outputs": [],
   "source": [
    "from sklearn import metrics\n",
    "from sklearn.svm import LinearSVC\n",
    "from sklearn.metrics import accuracy_score, confusion_matrix, classification_report"
   ]
  },
  {
   "cell_type": "code",
   "execution_count": null,
   "metadata": {
    "colab": {
     "base_uri": "https://localhost:8080/"
    },
    "id": "tRhy7Vmpn8pP",
    "outputId": "ec5207be-ad68-4222-8bff-a892329f30be"
   },
   "outputs": [],
   "source": [
    "model=LinearSVC()\n",
    "model.fit(X_train_smote, y_train_smote)\n",
    "train_pred=model.predict(X_train)\n",
    "y_preds=model.predict(X_test)\n",
    "\n",
    "print(f\"Training score = {metrics.accuracy_score(y_train,train_pred)}\")\n",
    "print(f\"Testing score = {metrics.accuracy_score(y_test,y_preds)}\")\n"
   ]
  },
  {
   "cell_type": "code",
   "execution_count": null,
   "metadata": {
    "colab": {
     "base_uri": "https://localhost:8080/"
    },
    "id": "Mx7RWVZcJtQc",
    "outputId": "3e059983-f463-4cb2-fa3a-1a969bf7371a"
   },
   "outputs": [],
   "source": [
    "\n",
    "\n",
    "training_accuracy = accuracy_score(y_train,train_pred)*100\n",
    "print('training data accuracy is:', training_accuracy)\n",
    "print()\n",
    "\n",
    "clf_report = classification_report(y_train,train_pred)\n",
    "print('Classification report:\\n', clf_report)\n",
    "print()\n",
    "\n",
    "confusion_matrix(y_train,train_pred)"
   ]
  },
  {
   "cell_type": "code",
   "execution_count": null,
   "metadata": {
    "colab": {
     "base_uri": "https://localhost:8080/"
    },
    "id": "fqhWLBGMVJwG",
    "outputId": "0739ce72-1aff-4e05-eb5a-b1eb8068e3d5"
   },
   "outputs": [],
   "source": [
    "confusion_matrix(y_test,y_preds)"
   ]
  },
  {
   "cell_type": "code",
   "execution_count": null,
   "metadata": {
    "colab": {
     "base_uri": "https://localhost:8080/"
    },
    "id": "7y5d-24pVLYa",
    "outputId": "d2ece537-96a1-4471-d7e9-6bbbe6062ec8",
    "scrolled": true
   },
   "outputs": [],
   "source": [
    "accuracy_score(y_test,y_preds)"
   ]
  },
  {
   "cell_type": "code",
   "execution_count": null,
   "metadata": {
    "colab": {
     "base_uri": "https://localhost:8080/"
    },
    "id": "2CH3Ns-z1Ay5",
    "outputId": "ad6e41bd-9ee9-4da0-add7-0155353636ff"
   },
   "outputs": [],
   "source": [
    "from sklearn.metrics import roc_auc_score\n",
    "roc_auc_score(y_test,y_preds)"
   ]
  },
  {
   "cell_type": "markdown",
   "metadata": {
    "id": "uFhfgi_U7xF6"
   },
   "source": [
    "SVC works well with the data but this is not the best accuracy "
   ]
  },
  {
   "cell_type": "markdown",
   "metadata": {
    "id": "Z1EcMXQBp4W6"
   },
   "source": [
    "## Decision tree classifier"
   ]
  },
  {
   "cell_type": "code",
   "execution_count": null,
   "metadata": {
    "id": "X9KZrWBl6Ioo"
   },
   "outputs": [],
   "source": [
    "from sklearn.tree import DecisionTreeClassifier"
   ]
  },
  {
   "cell_type": "code",
   "execution_count": null,
   "metadata": {
    "id": "OuTHwpzx6mvN"
   },
   "outputs": [],
   "source": [
    "model_d= DecisionTreeClassifier(criterion=\"entropy\",max_depth=10,random_state=44,ccp_alpha=0.8,min_impurity_decrease=0.6)\n",
    "\n",
    "# Train Decision Tree Classifer\n",
    "model_d = model_d.fit(X_train_smote, y_train_smote)\n",
    "y_train_pred=model_d.predict(X_train)\n",
    "#Predict the response for test dataset\n",
    "y_pred_test = model_d.predict(X_test)"
   ]
  },
  {
   "cell_type": "code",
   "execution_count": null,
   "metadata": {
    "colab": {
     "base_uri": "https://localhost:8080/"
    },
    "id": "ciVVF8pA7PCU",
    "outputId": "7e3d2d3e-bfd8-45ba-bf2e-ffa6bf72deab"
   },
   "outputs": [],
   "source": [
    "print(\"Accuracy:\",metrics.accuracy_score(y_train,y_train_pred))"
   ]
  },
  {
   "cell_type": "code",
   "execution_count": null,
   "metadata": {
    "colab": {
     "base_uri": "https://localhost:8080/"
    },
    "id": "2pnvCFf060tS",
    "outputId": "253ab082-a017-421b-e8a1-c337bca5a96c"
   },
   "outputs": [],
   "source": [
    "# Model Accuracy, how often is the classifier correct?\n",
    "print(\"Accuracy:\",metrics.accuracy_score(y_test,y_pred_test))"
   ]
  },
  {
   "cell_type": "code",
   "execution_count": null,
   "metadata": {
    "colab": {
     "base_uri": "https://localhost:8080/"
    },
    "id": "te_CmKp0I1Ya",
    "outputId": "65ce8a7f-8e1a-47ec-af1a-a78f8a03b3b9"
   },
   "outputs": [],
   "source": [
    "\n",
    "training_accuracy = accuracy_score(y_train,y_train_pred)*100\n",
    "print('training data accuracy is:', training_accuracy)\n",
    "print()\n",
    "\n",
    "clf_report2 = classification_report(y_train,y_train_pred)\n",
    "print('Classification report:\\n', clf_report2)\n",
    "print()\n"
   ]
  },
  {
   "cell_type": "code",
   "execution_count": null,
   "metadata": {
    "colab": {
     "base_uri": "https://localhost:8080/"
    },
    "id": "00UgZaiv0zrL",
    "outputId": "e5cc8759-439f-4c4c-96ad-af907c717bbb"
   },
   "outputs": [],
   "source": [
    "from sklearn.metrics import roc_auc_score\n",
    "roc_auc_score(y_test,y_pred_test)"
   ]
  },
  {
   "cell_type": "markdown",
   "metadata": {
    "id": "10H_sChTIPQV"
   },
   "source": [
    "decision tree make the highest accuracy than the previous two algorithms "
   ]
  },
  {
   "cell_type": "markdown",
   "metadata": {
    "id": "DsobAGPGDoPa"
   },
   "source": [
    "we should choose the model which has the highest auc curve and more sharp after test so we chose random forest to deploy "
   ]
  },
  {
   "cell_type": "markdown",
   "metadata": {
    "id": "pzilFQmZEWG-"
   },
   "source": [
    "#Deployment \n"
   ]
  },
  {
   "cell_type": "code",
   "execution_count": null,
   "metadata": {
    "colab": {
     "base_uri": "https://localhost:8080/"
    },
    "id": "1Wod9NofD-HZ",
    "outputId": "ee0e9909-fccf-469d-d29b-c348b41e3629"
   },
   "outputs": [],
   "source": [
    "import joblib\n",
    "joblib.dump(rf,'model.joblib')\n",
    "#save the random forest model using joblib"
   ]
  },
  {
   "cell_type": "code",
   "execution_count": null,
   "metadata": {
    "colab": {
     "base_uri": "https://localhost:8080/"
    },
    "id": "cazHWWgCEms1",
    "outputId": "982eed73-ac44-454e-d2e0-ffa941b7b595"
   },
   "outputs": [],
   "source": [
    "# save the pca using joblib\n",
    "joblib.dump(pca,'pca.joblib')"
   ]
  },
  {
   "cell_type": "code",
   "execution_count": null,
   "metadata": {},
   "outputs": [],
   "source": [
    "#save the scaler object to do normalization to user input \n",
    "dump(scaler,'scaler.joblib')"
   ]
  }
 ],
 "metadata": {
  "colab": {
   "provenance": []
  },
  "kernelspec": {
   "display_name": "Python 3 (ipykernel)",
   "language": "python",
   "name": "python3"
  },
  "language_info": {
   "codemirror_mode": {
    "name": "ipython",
    "version": 3
   },
   "file_extension": ".py",
   "mimetype": "text/x-python",
   "name": "python",
   "nbconvert_exporter": "python",
   "pygments_lexer": "ipython3",
   "version": "3.9.13"
  },
  "widgets": {
   "application/vnd.jupyter.widget-state+json": {
    "024a9eba58a44fa29d7370fc532e713e": {
     "model_module": "@jupyter-widgets/base",
     "model_module_version": "1.2.0",
     "model_name": "LayoutModel",
     "state": {
      "_model_module": "@jupyter-widgets/base",
      "_model_module_version": "1.2.0",
      "_model_name": "LayoutModel",
      "_view_count": null,
      "_view_module": "@jupyter-widgets/base",
      "_view_module_version": "1.2.0",
      "_view_name": "LayoutView",
      "align_content": null,
      "align_items": null,
      "align_self": null,
      "border": null,
      "bottom": null,
      "display": null,
      "flex": null,
      "flex_flow": null,
      "grid_area": null,
      "grid_auto_columns": null,
      "grid_auto_flow": null,
      "grid_auto_rows": null,
      "grid_column": null,
      "grid_gap": null,
      "grid_row": null,
      "grid_template_areas": null,
      "grid_template_columns": null,
      "grid_template_rows": null,
      "height": null,
      "justify_content": null,
      "justify_items": null,
      "left": null,
      "margin": null,
      "max_height": null,
      "max_width": null,
      "min_height": null,
      "min_width": null,
      "object_fit": null,
      "object_position": null,
      "order": null,
      "overflow": null,
      "overflow_x": null,
      "overflow_y": null,
      "padding": null,
      "right": null,
      "top": null,
      "visibility": null,
      "width": null
     }
    },
    "07ce5ab9e18649f3a5c31a269ef52112": {
     "model_module": "@jupyter-widgets/base",
     "model_module_version": "1.2.0",
     "model_name": "LayoutModel",
     "state": {
      "_model_module": "@jupyter-widgets/base",
      "_model_module_version": "1.2.0",
      "_model_name": "LayoutModel",
      "_view_count": null,
      "_view_module": "@jupyter-widgets/base",
      "_view_module_version": "1.2.0",
      "_view_name": "LayoutView",
      "align_content": null,
      "align_items": null,
      "align_self": null,
      "border": null,
      "bottom": null,
      "display": null,
      "flex": null,
      "flex_flow": null,
      "grid_area": null,
      "grid_auto_columns": null,
      "grid_auto_flow": null,
      "grid_auto_rows": null,
      "grid_column": null,
      "grid_gap": null,
      "grid_row": null,
      "grid_template_areas": null,
      "grid_template_columns": null,
      "grid_template_rows": null,
      "height": null,
      "justify_content": null,
      "justify_items": null,
      "left": null,
      "margin": null,
      "max_height": null,
      "max_width": null,
      "min_height": null,
      "min_width": null,
      "object_fit": null,
      "object_position": null,
      "order": null,
      "overflow": null,
      "overflow_x": null,
      "overflow_y": null,
      "padding": null,
      "right": null,
      "top": null,
      "visibility": null,
      "width": null
     }
    },
    "0d73778ff76949a9b807b8fa343b2ec0": {
     "model_module": "@jupyter-widgets/controls",
     "model_module_version": "1.5.0",
     "model_name": "DescriptionStyleModel",
     "state": {
      "_model_module": "@jupyter-widgets/controls",
      "_model_module_version": "1.5.0",
      "_model_name": "DescriptionStyleModel",
      "_view_count": null,
      "_view_module": "@jupyter-widgets/base",
      "_view_module_version": "1.2.0",
      "_view_name": "StyleView",
      "description_width": ""
     }
    },
    "136899abb8d047449c5616aaa4fdb1cc": {
     "model_module": "@jupyter-widgets/base",
     "model_module_version": "1.2.0",
     "model_name": "LayoutModel",
     "state": {
      "_model_module": "@jupyter-widgets/base",
      "_model_module_version": "1.2.0",
      "_model_name": "LayoutModel",
      "_view_count": null,
      "_view_module": "@jupyter-widgets/base",
      "_view_module_version": "1.2.0",
      "_view_name": "LayoutView",
      "align_content": null,
      "align_items": null,
      "align_self": null,
      "border": null,
      "bottom": null,
      "display": null,
      "flex": null,
      "flex_flow": null,
      "grid_area": null,
      "grid_auto_columns": null,
      "grid_auto_flow": null,
      "grid_auto_rows": null,
      "grid_column": null,
      "grid_gap": null,
      "grid_row": null,
      "grid_template_areas": null,
      "grid_template_columns": null,
      "grid_template_rows": null,
      "height": null,
      "justify_content": null,
      "justify_items": null,
      "left": null,
      "margin": null,
      "max_height": null,
      "max_width": null,
      "min_height": null,
      "min_width": null,
      "object_fit": null,
      "object_position": null,
      "order": null,
      "overflow": null,
      "overflow_x": null,
      "overflow_y": null,
      "padding": null,
      "right": null,
      "top": null,
      "visibility": null,
      "width": null
     }
    },
    "227514f1d9d94b9996756fd6bbc86b4a": {
     "model_module": "@jupyter-widgets/base",
     "model_module_version": "1.2.0",
     "model_name": "LayoutModel",
     "state": {
      "_model_module": "@jupyter-widgets/base",
      "_model_module_version": "1.2.0",
      "_model_name": "LayoutModel",
      "_view_count": null,
      "_view_module": "@jupyter-widgets/base",
      "_view_module_version": "1.2.0",
      "_view_name": "LayoutView",
      "align_content": null,
      "align_items": null,
      "align_self": null,
      "border": null,
      "bottom": null,
      "display": null,
      "flex": null,
      "flex_flow": null,
      "grid_area": null,
      "grid_auto_columns": null,
      "grid_auto_flow": null,
      "grid_auto_rows": null,
      "grid_column": null,
      "grid_gap": null,
      "grid_row": null,
      "grid_template_areas": null,
      "grid_template_columns": null,
      "grid_template_rows": null,
      "height": null,
      "justify_content": null,
      "justify_items": null,
      "left": null,
      "margin": null,
      "max_height": null,
      "max_width": null,
      "min_height": null,
      "min_width": null,
      "object_fit": null,
      "object_position": null,
      "order": null,
      "overflow": null,
      "overflow_x": null,
      "overflow_y": null,
      "padding": null,
      "right": null,
      "top": null,
      "visibility": null,
      "width": null
     }
    },
    "232c914fb1dc4277b12bcbfb24f82408": {
     "model_module": "@jupyter-widgets/controls",
     "model_module_version": "1.5.0",
     "model_name": "FloatProgressModel",
     "state": {
      "_dom_classes": [],
      "_model_module": "@jupyter-widgets/controls",
      "_model_module_version": "1.5.0",
      "_model_name": "FloatProgressModel",
      "_view_count": null,
      "_view_module": "@jupyter-widgets/controls",
      "_view_module_version": "1.5.0",
      "_view_name": "ProgressView",
      "bar_style": "success",
      "description": "",
      "description_tooltip": null,
      "layout": "IPY_MODEL_07ce5ab9e18649f3a5c31a269ef52112",
      "max": 5,
      "min": 0,
      "orientation": "horizontal",
      "style": "IPY_MODEL_ab0943e7b0174c38b84962eba777c4ff",
      "value": 5
     }
    },
    "3c434036191a4a75a9bdda7daa8a370b": {
     "model_module": "@jupyter-widgets/base",
     "model_module_version": "1.2.0",
     "model_name": "LayoutModel",
     "state": {
      "_model_module": "@jupyter-widgets/base",
      "_model_module_version": "1.2.0",
      "_model_name": "LayoutModel",
      "_view_count": null,
      "_view_module": "@jupyter-widgets/base",
      "_view_module_version": "1.2.0",
      "_view_name": "LayoutView",
      "align_content": null,
      "align_items": null,
      "align_self": null,
      "border": null,
      "bottom": null,
      "display": null,
      "flex": null,
      "flex_flow": null,
      "grid_area": null,
      "grid_auto_columns": null,
      "grid_auto_flow": null,
      "grid_auto_rows": null,
      "grid_column": null,
      "grid_gap": null,
      "grid_row": null,
      "grid_template_areas": null,
      "grid_template_columns": null,
      "grid_template_rows": null,
      "height": null,
      "justify_content": null,
      "justify_items": null,
      "left": null,
      "margin": null,
      "max_height": null,
      "max_width": null,
      "min_height": null,
      "min_width": null,
      "object_fit": null,
      "object_position": null,
      "order": null,
      "overflow": null,
      "overflow_x": null,
      "overflow_y": null,
      "padding": null,
      "right": null,
      "top": null,
      "visibility": null,
      "width": null
     }
    },
    "45dc76f5d46846c8868424f89a122ac5": {
     "model_module": "@jupyter-widgets/controls",
     "model_module_version": "1.5.0",
     "model_name": "DescriptionStyleModel",
     "state": {
      "_model_module": "@jupyter-widgets/controls",
      "_model_module_version": "1.5.0",
      "_model_name": "DescriptionStyleModel",
      "_view_count": null,
      "_view_module": "@jupyter-widgets/base",
      "_view_module_version": "1.2.0",
      "_view_name": "StyleView",
      "description_width": ""
     }
    },
    "46a0e1d4ec184ecba14169d142a1af67": {
     "model_module": "@jupyter-widgets/controls",
     "model_module_version": "1.5.0",
     "model_name": "ProgressStyleModel",
     "state": {
      "_model_module": "@jupyter-widgets/controls",
      "_model_module_version": "1.5.0",
      "_model_name": "ProgressStyleModel",
      "_view_count": null,
      "_view_module": "@jupyter-widgets/base",
      "_view_module_version": "1.2.0",
      "_view_name": "StyleView",
      "bar_color": null,
      "description_width": ""
     }
    },
    "5397aa84c5834abeab404cd12955903e": {
     "model_module": "@jupyter-widgets/controls",
     "model_module_version": "1.5.0",
     "model_name": "HTMLModel",
     "state": {
      "_dom_classes": [],
      "_model_module": "@jupyter-widgets/controls",
      "_model_module_version": "1.5.0",
      "_model_name": "HTMLModel",
      "_view_count": null,
      "_view_module": "@jupyter-widgets/controls",
      "_view_module_version": "1.5.0",
      "_view_name": "HTMLView",
      "description": "",
      "description_tooltip": null,
      "layout": "IPY_MODEL_da8359c146dd4b05af8c481306502277",
      "placeholder": "​",
      "style": "IPY_MODEL_0d73778ff76949a9b807b8fa343b2ec0",
      "value": "Render HTML: 100%"
     }
    },
    "674fdf5f9b8742c391a518a102f0dc51": {
     "model_module": "@jupyter-widgets/controls",
     "model_module_version": "1.5.0",
     "model_name": "HTMLModel",
     "state": {
      "_dom_classes": [],
      "_model_module": "@jupyter-widgets/controls",
      "_model_module_version": "1.5.0",
      "_model_name": "HTMLModel",
      "_view_count": null,
      "_view_module": "@jupyter-widgets/controls",
      "_view_module_version": "1.5.0",
      "_view_name": "HTMLView",
      "description": "",
      "description_tooltip": null,
      "layout": "IPY_MODEL_935b2e5e0cbf4cfd88845f84ce5ed59e",
      "placeholder": "​",
      "style": "IPY_MODEL_76b6167982ea4b0bb7ead342c30b3065",
      "value": "Generate report structure: 100%"
     }
    },
    "76b6167982ea4b0bb7ead342c30b3065": {
     "model_module": "@jupyter-widgets/controls",
     "model_module_version": "1.5.0",
     "model_name": "DescriptionStyleModel",
     "state": {
      "_model_module": "@jupyter-widgets/controls",
      "_model_module_version": "1.5.0",
      "_model_name": "DescriptionStyleModel",
      "_view_count": null,
      "_view_module": "@jupyter-widgets/base",
      "_view_module_version": "1.2.0",
      "_view_name": "StyleView",
      "description_width": ""
     }
    },
    "76cfdd1ccdf64ccb95ee36ca5ae303e0": {
     "model_module": "@jupyter-widgets/base",
     "model_module_version": "1.2.0",
     "model_name": "LayoutModel",
     "state": {
      "_model_module": "@jupyter-widgets/base",
      "_model_module_version": "1.2.0",
      "_model_name": "LayoutModel",
      "_view_count": null,
      "_view_module": "@jupyter-widgets/base",
      "_view_module_version": "1.2.0",
      "_view_name": "LayoutView",
      "align_content": null,
      "align_items": null,
      "align_self": null,
      "border": null,
      "bottom": null,
      "display": null,
      "flex": null,
      "flex_flow": null,
      "grid_area": null,
      "grid_auto_columns": null,
      "grid_auto_flow": null,
      "grid_auto_rows": null,
      "grid_column": null,
      "grid_gap": null,
      "grid_row": null,
      "grid_template_areas": null,
      "grid_template_columns": null,
      "grid_template_rows": null,
      "height": null,
      "justify_content": null,
      "justify_items": null,
      "left": null,
      "margin": null,
      "max_height": null,
      "max_width": null,
      "min_height": null,
      "min_width": null,
      "object_fit": null,
      "object_position": null,
      "order": null,
      "overflow": null,
      "overflow_x": null,
      "overflow_y": null,
      "padding": null,
      "right": null,
      "top": null,
      "visibility": null,
      "width": null
     }
    },
    "773cc428f97f49059bd271eecf7ae41e": {
     "model_module": "@jupyter-widgets/controls",
     "model_module_version": "1.5.0",
     "model_name": "HTMLModel",
     "state": {
      "_dom_classes": [],
      "_model_module": "@jupyter-widgets/controls",
      "_model_module_version": "1.5.0",
      "_model_name": "HTMLModel",
      "_view_count": null,
      "_view_module": "@jupyter-widgets/controls",
      "_view_module_version": "1.5.0",
      "_view_name": "HTMLView",
      "description": "",
      "description_tooltip": null,
      "layout": "IPY_MODEL_89d62978935944508219a7eb314a691b",
      "placeholder": "​",
      "style": "IPY_MODEL_45dc76f5d46846c8868424f89a122ac5",
      "value": " 1/1 [00:02&lt;00:00,  2.99s/it]"
     }
    },
    "88299fd706914ca1b776f69613b7c986": {
     "model_module": "@jupyter-widgets/controls",
     "model_module_version": "1.5.0",
     "model_name": "ProgressStyleModel",
     "state": {
      "_model_module": "@jupyter-widgets/controls",
      "_model_module_version": "1.5.0",
      "_model_name": "ProgressStyleModel",
      "_view_count": null,
      "_view_module": "@jupyter-widgets/base",
      "_view_module_version": "1.2.0",
      "_view_name": "StyleView",
      "bar_color": null,
      "description_width": ""
     }
    },
    "89d62978935944508219a7eb314a691b": {
     "model_module": "@jupyter-widgets/base",
     "model_module_version": "1.2.0",
     "model_name": "LayoutModel",
     "state": {
      "_model_module": "@jupyter-widgets/base",
      "_model_module_version": "1.2.0",
      "_model_name": "LayoutModel",
      "_view_count": null,
      "_view_module": "@jupyter-widgets/base",
      "_view_module_version": "1.2.0",
      "_view_name": "LayoutView",
      "align_content": null,
      "align_items": null,
      "align_self": null,
      "border": null,
      "bottom": null,
      "display": null,
      "flex": null,
      "flex_flow": null,
      "grid_area": null,
      "grid_auto_columns": null,
      "grid_auto_flow": null,
      "grid_auto_rows": null,
      "grid_column": null,
      "grid_gap": null,
      "grid_row": null,
      "grid_template_areas": null,
      "grid_template_columns": null,
      "grid_template_rows": null,
      "height": null,
      "justify_content": null,
      "justify_items": null,
      "left": null,
      "margin": null,
      "max_height": null,
      "max_width": null,
      "min_height": null,
      "min_width": null,
      "object_fit": null,
      "object_position": null,
      "order": null,
      "overflow": null,
      "overflow_x": null,
      "overflow_y": null,
      "padding": null,
      "right": null,
      "top": null,
      "visibility": null,
      "width": null
     }
    },
    "935b2e5e0cbf4cfd88845f84ce5ed59e": {
     "model_module": "@jupyter-widgets/base",
     "model_module_version": "1.2.0",
     "model_name": "LayoutModel",
     "state": {
      "_model_module": "@jupyter-widgets/base",
      "_model_module_version": "1.2.0",
      "_model_name": "LayoutModel",
      "_view_count": null,
      "_view_module": "@jupyter-widgets/base",
      "_view_module_version": "1.2.0",
      "_view_name": "LayoutView",
      "align_content": null,
      "align_items": null,
      "align_self": null,
      "border": null,
      "bottom": null,
      "display": null,
      "flex": null,
      "flex_flow": null,
      "grid_area": null,
      "grid_auto_columns": null,
      "grid_auto_flow": null,
      "grid_auto_rows": null,
      "grid_column": null,
      "grid_gap": null,
      "grid_row": null,
      "grid_template_areas": null,
      "grid_template_columns": null,
      "grid_template_rows": null,
      "height": null,
      "justify_content": null,
      "justify_items": null,
      "left": null,
      "margin": null,
      "max_height": null,
      "max_width": null,
      "min_height": null,
      "min_width": null,
      "object_fit": null,
      "object_position": null,
      "order": null,
      "overflow": null,
      "overflow_x": null,
      "overflow_y": null,
      "padding": null,
      "right": null,
      "top": null,
      "visibility": null,
      "width": null
     }
    },
    "9391d266297c42888ac86227e7e01274": {
     "model_module": "@jupyter-widgets/controls",
     "model_module_version": "1.5.0",
     "model_name": "FloatProgressModel",
     "state": {
      "_dom_classes": [],
      "_model_module": "@jupyter-widgets/controls",
      "_model_module_version": "1.5.0",
      "_model_name": "FloatProgressModel",
      "_view_count": null,
      "_view_module": "@jupyter-widgets/controls",
      "_view_module_version": "1.5.0",
      "_view_name": "ProgressView",
      "bar_style": "success",
      "description": "",
      "description_tooltip": null,
      "layout": "IPY_MODEL_d33b593004dc4c8da3f2a289017d975a",
      "max": 1,
      "min": 0,
      "orientation": "horizontal",
      "style": "IPY_MODEL_46a0e1d4ec184ecba14169d142a1af67",
      "value": 1
     }
    },
    "93bffd82888b4c67b05dd43a81e52c53": {
     "model_module": "@jupyter-widgets/controls",
     "model_module_version": "1.5.0",
     "model_name": "HBoxModel",
     "state": {
      "_dom_classes": [],
      "_model_module": "@jupyter-widgets/controls",
      "_model_module_version": "1.5.0",
      "_model_name": "HBoxModel",
      "_view_count": null,
      "_view_module": "@jupyter-widgets/controls",
      "_view_module_version": "1.5.0",
      "_view_name": "HBoxView",
      "box_style": "",
      "children": [
       "IPY_MODEL_5397aa84c5834abeab404cd12955903e",
       "IPY_MODEL_9391d266297c42888ac86227e7e01274",
       "IPY_MODEL_773cc428f97f49059bd271eecf7ae41e"
      ],
      "layout": "IPY_MODEL_d3c964fc8d254c73b3683caa290b87ad"
     }
    },
    "9ecc7fd0c389469b983b7fa412543351": {
     "model_module": "@jupyter-widgets/controls",
     "model_module_version": "1.5.0",
     "model_name": "HTMLModel",
     "state": {
      "_dom_classes": [],
      "_model_module": "@jupyter-widgets/controls",
      "_model_module_version": "1.5.0",
      "_model_name": "HTMLModel",
      "_view_count": null,
      "_view_module": "@jupyter-widgets/controls",
      "_view_module_version": "1.5.0",
      "_view_name": "HTMLView",
      "description": "",
      "description_tooltip": null,
      "layout": "IPY_MODEL_76cfdd1ccdf64ccb95ee36ca5ae303e0",
      "placeholder": "​",
      "style": "IPY_MODEL_bae1529977c844bd95a85b8723aa4378",
      "value": " 111/111 [00:49&lt;00:00,  3.68it/s, Completed]"
     }
    },
    "a6af9250976a4eee862d81ee631d2623": {
     "model_module": "@jupyter-widgets/controls",
     "model_module_version": "1.5.0",
     "model_name": "DescriptionStyleModel",
     "state": {
      "_model_module": "@jupyter-widgets/controls",
      "_model_module_version": "1.5.0",
      "_model_name": "DescriptionStyleModel",
      "_view_count": null,
      "_view_module": "@jupyter-widgets/base",
      "_view_module_version": "1.2.0",
      "_view_name": "StyleView",
      "description_width": ""
     }
    },
    "a80d21e8668945db9b67040e879f4124": {
     "model_module": "@jupyter-widgets/controls",
     "model_module_version": "1.5.0",
     "model_name": "FloatProgressModel",
     "state": {
      "_dom_classes": [],
      "_model_module": "@jupyter-widgets/controls",
      "_model_module_version": "1.5.0",
      "_model_name": "FloatProgressModel",
      "_view_count": null,
      "_view_module": "@jupyter-widgets/controls",
      "_view_module_version": "1.5.0",
      "_view_name": "ProgressView",
      "bar_style": "success",
      "description": "",
      "description_tooltip": null,
      "layout": "IPY_MODEL_3c434036191a4a75a9bdda7daa8a370b",
      "max": 1,
      "min": 0,
      "orientation": "horizontal",
      "style": "IPY_MODEL_88299fd706914ca1b776f69613b7c986",
      "value": 1
     }
    },
    "ab0943e7b0174c38b84962eba777c4ff": {
     "model_module": "@jupyter-widgets/controls",
     "model_module_version": "1.5.0",
     "model_name": "ProgressStyleModel",
     "state": {
      "_model_module": "@jupyter-widgets/controls",
      "_model_module_version": "1.5.0",
      "_model_name": "ProgressStyleModel",
      "_view_count": null,
      "_view_module": "@jupyter-widgets/base",
      "_view_module_version": "1.2.0",
      "_view_name": "StyleView",
      "bar_color": null,
      "description_width": ""
     }
    },
    "b1b6dae8b2ba4d769479b55b1763bca7": {
     "model_module": "@jupyter-widgets/controls",
     "model_module_version": "1.5.0",
     "model_name": "HBoxModel",
     "state": {
      "_dom_classes": [],
      "_model_module": "@jupyter-widgets/controls",
      "_model_module_version": "1.5.0",
      "_model_name": "HBoxModel",
      "_view_count": null,
      "_view_module": "@jupyter-widgets/controls",
      "_view_module_version": "1.5.0",
      "_view_name": "HBoxView",
      "box_style": "",
      "children": [
       "IPY_MODEL_c76de87313b949a2a477d8c43a43fef4",
       "IPY_MODEL_232c914fb1dc4277b12bcbfb24f82408",
       "IPY_MODEL_9ecc7fd0c389469b983b7fa412543351"
      ],
      "layout": "IPY_MODEL_d680408c14fc440f8758fc5225f6bf75"
     }
    },
    "bae1529977c844bd95a85b8723aa4378": {
     "model_module": "@jupyter-widgets/controls",
     "model_module_version": "1.5.0",
     "model_name": "DescriptionStyleModel",
     "state": {
      "_model_module": "@jupyter-widgets/controls",
      "_model_module_version": "1.5.0",
      "_model_name": "DescriptionStyleModel",
      "_view_count": null,
      "_view_module": "@jupyter-widgets/base",
      "_view_module_version": "1.2.0",
      "_view_name": "StyleView",
      "description_width": ""
     }
    },
    "c53ab380083141bc9b53379bce6cfbaa": {
     "model_module": "@jupyter-widgets/controls",
     "model_module_version": "1.5.0",
     "model_name": "HTMLModel",
     "state": {
      "_dom_classes": [],
      "_model_module": "@jupyter-widgets/controls",
      "_model_module_version": "1.5.0",
      "_model_name": "HTMLModel",
      "_view_count": null,
      "_view_module": "@jupyter-widgets/controls",
      "_view_module_version": "1.5.0",
      "_view_name": "HTMLView",
      "description": "",
      "description_tooltip": null,
      "layout": "IPY_MODEL_024a9eba58a44fa29d7370fc532e713e",
      "placeholder": "​",
      "style": "IPY_MODEL_e322c00c81fa48ab955e684bcbd47f09",
      "value": " 1/1 [00:09&lt;00:00,  9.26s/it]"
     }
    },
    "c76de87313b949a2a477d8c43a43fef4": {
     "model_module": "@jupyter-widgets/controls",
     "model_module_version": "1.5.0",
     "model_name": "HTMLModel",
     "state": {
      "_dom_classes": [],
      "_model_module": "@jupyter-widgets/controls",
      "_model_module_version": "1.5.0",
      "_model_name": "HTMLModel",
      "_view_count": null,
      "_view_module": "@jupyter-widgets/controls",
      "_view_module_version": "1.5.0",
      "_view_name": "HTMLView",
      "description": "",
      "description_tooltip": null,
      "layout": "IPY_MODEL_136899abb8d047449c5616aaa4fdb1cc",
      "placeholder": "​",
      "style": "IPY_MODEL_a6af9250976a4eee862d81ee631d2623",
      "value": "Summarize dataset: 100%"
     }
    },
    "d33b593004dc4c8da3f2a289017d975a": {
     "model_module": "@jupyter-widgets/base",
     "model_module_version": "1.2.0",
     "model_name": "LayoutModel",
     "state": {
      "_model_module": "@jupyter-widgets/base",
      "_model_module_version": "1.2.0",
      "_model_name": "LayoutModel",
      "_view_count": null,
      "_view_module": "@jupyter-widgets/base",
      "_view_module_version": "1.2.0",
      "_view_name": "LayoutView",
      "align_content": null,
      "align_items": null,
      "align_self": null,
      "border": null,
      "bottom": null,
      "display": null,
      "flex": null,
      "flex_flow": null,
      "grid_area": null,
      "grid_auto_columns": null,
      "grid_auto_flow": null,
      "grid_auto_rows": null,
      "grid_column": null,
      "grid_gap": null,
      "grid_row": null,
      "grid_template_areas": null,
      "grid_template_columns": null,
      "grid_template_rows": null,
      "height": null,
      "justify_content": null,
      "justify_items": null,
      "left": null,
      "margin": null,
      "max_height": null,
      "max_width": null,
      "min_height": null,
      "min_width": null,
      "object_fit": null,
      "object_position": null,
      "order": null,
      "overflow": null,
      "overflow_x": null,
      "overflow_y": null,
      "padding": null,
      "right": null,
      "top": null,
      "visibility": null,
      "width": null
     }
    },
    "d3c964fc8d254c73b3683caa290b87ad": {
     "model_module": "@jupyter-widgets/base",
     "model_module_version": "1.2.0",
     "model_name": "LayoutModel",
     "state": {
      "_model_module": "@jupyter-widgets/base",
      "_model_module_version": "1.2.0",
      "_model_name": "LayoutModel",
      "_view_count": null,
      "_view_module": "@jupyter-widgets/base",
      "_view_module_version": "1.2.0",
      "_view_name": "LayoutView",
      "align_content": null,
      "align_items": null,
      "align_self": null,
      "border": null,
      "bottom": null,
      "display": null,
      "flex": null,
      "flex_flow": null,
      "grid_area": null,
      "grid_auto_columns": null,
      "grid_auto_flow": null,
      "grid_auto_rows": null,
      "grid_column": null,
      "grid_gap": null,
      "grid_row": null,
      "grid_template_areas": null,
      "grid_template_columns": null,
      "grid_template_rows": null,
      "height": null,
      "justify_content": null,
      "justify_items": null,
      "left": null,
      "margin": null,
      "max_height": null,
      "max_width": null,
      "min_height": null,
      "min_width": null,
      "object_fit": null,
      "object_position": null,
      "order": null,
      "overflow": null,
      "overflow_x": null,
      "overflow_y": null,
      "padding": null,
      "right": null,
      "top": null,
      "visibility": null,
      "width": null
     }
    },
    "d680408c14fc440f8758fc5225f6bf75": {
     "model_module": "@jupyter-widgets/base",
     "model_module_version": "1.2.0",
     "model_name": "LayoutModel",
     "state": {
      "_model_module": "@jupyter-widgets/base",
      "_model_module_version": "1.2.0",
      "_model_name": "LayoutModel",
      "_view_count": null,
      "_view_module": "@jupyter-widgets/base",
      "_view_module_version": "1.2.0",
      "_view_name": "LayoutView",
      "align_content": null,
      "align_items": null,
      "align_self": null,
      "border": null,
      "bottom": null,
      "display": null,
      "flex": null,
      "flex_flow": null,
      "grid_area": null,
      "grid_auto_columns": null,
      "grid_auto_flow": null,
      "grid_auto_rows": null,
      "grid_column": null,
      "grid_gap": null,
      "grid_row": null,
      "grid_template_areas": null,
      "grid_template_columns": null,
      "grid_template_rows": null,
      "height": null,
      "justify_content": null,
      "justify_items": null,
      "left": null,
      "margin": null,
      "max_height": null,
      "max_width": null,
      "min_height": null,
      "min_width": null,
      "object_fit": null,
      "object_position": null,
      "order": null,
      "overflow": null,
      "overflow_x": null,
      "overflow_y": null,
      "padding": null,
      "right": null,
      "top": null,
      "visibility": null,
      "width": null
     }
    },
    "da8359c146dd4b05af8c481306502277": {
     "model_module": "@jupyter-widgets/base",
     "model_module_version": "1.2.0",
     "model_name": "LayoutModel",
     "state": {
      "_model_module": "@jupyter-widgets/base",
      "_model_module_version": "1.2.0",
      "_model_name": "LayoutModel",
      "_view_count": null,
      "_view_module": "@jupyter-widgets/base",
      "_view_module_version": "1.2.0",
      "_view_name": "LayoutView",
      "align_content": null,
      "align_items": null,
      "align_self": null,
      "border": null,
      "bottom": null,
      "display": null,
      "flex": null,
      "flex_flow": null,
      "grid_area": null,
      "grid_auto_columns": null,
      "grid_auto_flow": null,
      "grid_auto_rows": null,
      "grid_column": null,
      "grid_gap": null,
      "grid_row": null,
      "grid_template_areas": null,
      "grid_template_columns": null,
      "grid_template_rows": null,
      "height": null,
      "justify_content": null,
      "justify_items": null,
      "left": null,
      "margin": null,
      "max_height": null,
      "max_width": null,
      "min_height": null,
      "min_width": null,
      "object_fit": null,
      "object_position": null,
      "order": null,
      "overflow": null,
      "overflow_x": null,
      "overflow_y": null,
      "padding": null,
      "right": null,
      "top": null,
      "visibility": null,
      "width": null
     }
    },
    "e322c00c81fa48ab955e684bcbd47f09": {
     "model_module": "@jupyter-widgets/controls",
     "model_module_version": "1.5.0",
     "model_name": "DescriptionStyleModel",
     "state": {
      "_model_module": "@jupyter-widgets/controls",
      "_model_module_version": "1.5.0",
      "_model_name": "DescriptionStyleModel",
      "_view_count": null,
      "_view_module": "@jupyter-widgets/base",
      "_view_module_version": "1.2.0",
      "_view_name": "StyleView",
      "description_width": ""
     }
    },
    "f4fda49d273c4564aade525b9b116ad8": {
     "model_module": "@jupyter-widgets/controls",
     "model_module_version": "1.5.0",
     "model_name": "HBoxModel",
     "state": {
      "_dom_classes": [],
      "_model_module": "@jupyter-widgets/controls",
      "_model_module_version": "1.5.0",
      "_model_name": "HBoxModel",
      "_view_count": null,
      "_view_module": "@jupyter-widgets/controls",
      "_view_module_version": "1.5.0",
      "_view_name": "HBoxView",
      "box_style": "",
      "children": [
       "IPY_MODEL_674fdf5f9b8742c391a518a102f0dc51",
       "IPY_MODEL_a80d21e8668945db9b67040e879f4124",
       "IPY_MODEL_c53ab380083141bc9b53379bce6cfbaa"
      ],
      "layout": "IPY_MODEL_227514f1d9d94b9996756fd6bbc86b4a"
     }
    }
   }
  }
 },
 "nbformat": 4,
 "nbformat_minor": 1
}
